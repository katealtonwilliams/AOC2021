{
 "cells": [
  {
   "cell_type": "code",
   "execution_count": 127,
   "metadata": {},
   "outputs": [],
   "source": [
    "import numpy as np\n",
    "from typing import Callable"
   ]
  },
  {
   "cell_type": "code",
   "execution_count": 128,
   "metadata": {},
   "outputs": [],
   "source": [
    "def parse_input(input_file: str) -> tuple[list]:\n",
    "    with open(input_file) as dots_and_folds:\n",
    "        dots_and_folds = dots_and_folds.readlines()\n",
    "    dots = [(int(y), int(x)) for dot in dots_and_folds if (coords := dot.strip().split(',')) and coords[0].isnumeric() for x, y in [coords]]\n",
    "    folds = [tuple(fold.strip().removeprefix('fold along ').split('=')) for fold in dots_and_folds if fold[0].isalpha()]\n",
    "    return dots, folds"
   ]
  },
  {
   "cell_type": "code",
   "execution_count": 129,
   "metadata": {},
   "outputs": [],
   "source": [
    "def create_inital_empty_grid(coords: list[tuple[int, int]]) -> np.ndarray:\n",
    "    y_coords, x_coords = zip(*coords)\n",
    "    max_x_coord = max(x_coords)\n",
    "    max_y_coord = max(y_coords)\n",
    "    return np.zeros((max_y_coord + 1, max_x_coord + 1))"
   ]
  },
  {
   "cell_type": "code",
   "execution_count": 130,
   "metadata": {},
   "outputs": [],
   "source": [
    "def create_empty_grid_for_fold(current_grid: np.ndarray, fold_axis: str, fold_coord: int) -> np.ndarray:\n",
    "    if fold_axis == 'y':\n",
    "        return np.zeros((fold_coord, current_grid.shape[1]))\n",
    "    if fold_axis == 'x':\n",
    "        return np.zeros((current_grid.shape[0], fold_coord))"
   ]
  },
  {
   "cell_type": "code",
   "execution_count": 131,
   "metadata": {},
   "outputs": [],
   "source": [
    "def add_dots_to_grid(coords: list[tuple[int, int]], empty_array: np.ndarray):\n",
    "    for coord in coords:\n",
    "        empty_array[coord] = 1"
   ]
  },
  {
   "cell_type": "code",
   "execution_count": 132,
   "metadata": {},
   "outputs": [],
   "source": [
    "def map_single_coord(fold_axis: str, fold_coord: int) -> Callable:\n",
    "    def map_on_y_fold(coord: tuple[int, int]) -> tuple[int, int]:\n",
    "        return (2*fold_coord - coord[0], coord[1])\n",
    "    def map_on_x_fold(coord: tuple[int, int]) -> tuple[int, int]:\n",
    "        return (coord[0], 2*fold_coord - coord[1])\n",
    "    if fold_axis == 'y':\n",
    "        return map_on_y_fold\n",
    "    if fold_axis == 'x':\n",
    "        return map_on_x_fold"
   ]
  },
  {
   "cell_type": "code",
   "execution_count": 133,
   "metadata": {},
   "outputs": [],
   "source": [
    "def find_and_map_coords_on_fold(coords: list[tuple[int, int]], fold_axis: str, fold_coord: int) -> list[tuple[int, int]]:\n",
    "    i = 0 if fold_axis == 'y' else 1\n",
    "    coords_to_map = [coord for coord in coords if coord[i] > fold_coord]\n",
    "    map_on_y_fold = map_single_coord(fold_axis, fold_coord)\n",
    "    mapped_coords = set(map(map_on_y_fold, coords_to_map))\n",
    "    updated_coords = (set(coords) - set(coords_to_map)) | mapped_coords\n",
    "    updated_coords = [coord for coord in updated_coords if coord[i] != fold_coord]\n",
    "    return updated_coords"
   ]
  },
  {
   "cell_type": "code",
   "execution_count": 134,
   "metadata": {},
   "outputs": [],
   "source": [
    "def fold_paper_once(input_file: str) -> int:\n",
    "    dots, folds = parse_input(input_file)\n",
    "    fold_axis = folds[0][0]\n",
    "    fold_coord = int(folds[0][1])\n",
    "    dots_after_first_fold = find_and_map_coords_on_fold(dots, fold_axis, fold_coord)\n",
    "    return len(dots_after_first_fold)"
   ]
  },
  {
   "cell_type": "code",
   "execution_count": 135,
   "metadata": {},
   "outputs": [
    {
     "data": {
      "text/plain": [
       "17"
      ]
     },
     "execution_count": 135,
     "metadata": {},
     "output_type": "execute_result"
    }
   ],
   "source": [
    "fold_paper_once('practise_input.txt')"
   ]
  },
  {
   "cell_type": "code",
   "execution_count": 136,
   "metadata": {},
   "outputs": [
    {
     "data": {
      "text/plain": [
       "942"
      ]
     },
     "execution_count": 136,
     "metadata": {},
     "output_type": "execute_result"
    }
   ],
   "source": [
    "fold_paper_once('real_input.txt')"
   ]
  },
  {
   "cell_type": "markdown",
   "metadata": {},
   "source": [
    "Part 2"
   ]
  },
  {
   "cell_type": "code",
   "execution_count": 137,
   "metadata": {},
   "outputs": [],
   "source": [
    "def make_grid_readable(grid: np.ndarray) -> list[str]:\n",
    "    readable_grid = []\n",
    "    for line in grid:\n",
    "        readable_line = []\n",
    "        for item in line:\n",
    "            if item == 0:\n",
    "                readable_line.append('.')\n",
    "            if item == 1:\n",
    "                readable_line.append('#')\n",
    "        readable_grid.append(readable_line)\n",
    "    return readable_grid"
   ]
  },
  {
   "cell_type": "code",
   "execution_count": 138,
   "metadata": {},
   "outputs": [],
   "source": [
    "def find_final_code(input_file: str) -> int:\n",
    "    dots, folds = parse_input(input_file)\n",
    "    current_grid = create_inital_empty_grid(dots)\n",
    "    for fold in folds:\n",
    "        fold_axis = fold[0]\n",
    "        fold_coord = int(fold[1])\n",
    "        dots = find_and_map_coords_on_fold(dots, fold_axis, fold_coord)\n",
    "        current_grid = create_empty_grid_for_fold(current_grid, fold_axis, fold_coord)\n",
    "        add_dots_to_grid(dots, current_grid)\n",
    "    return make_grid_readable(current_grid)"
   ]
  },
  {
   "cell_type": "code",
   "execution_count": 139,
   "metadata": {},
   "outputs": [
    {
     "data": {
      "text/plain": [
       "[['#', '#', '#', '#', '#'],\n",
       " ['#', '.', '.', '.', '#'],\n",
       " ['#', '.', '.', '.', '#'],\n",
       " ['#', '.', '.', '.', '#'],\n",
       " ['#', '#', '#', '#', '#'],\n",
       " ['.', '.', '.', '.', '.'],\n",
       " ['.', '.', '.', '.', '.']]"
      ]
     },
     "execution_count": 139,
     "metadata": {},
     "output_type": "execute_result"
    }
   ],
   "source": [
    "find_final_code('practise_input.txt')"
   ]
  },
  {
   "cell_type": "code",
   "execution_count": 140,
   "metadata": {},
   "outputs": [],
   "source": [
    "readable_grid = find_final_code('real_input.txt')"
   ]
  },
  {
   "cell_type": "code",
   "execution_count": 141,
   "metadata": {},
   "outputs": [
    {
     "name": "stdout",
     "output_type": "stream",
     "text": [
      "['.', '.', '#', '#', '.', '#', '#', '#', '#', '.', '.', '#', '#', '.', '.', '#', '.', '.', '#', '.', '.', '#', '#', '.', '.', '#', '#', '#', '.', '.', '#', '#', '#', '.', '.', '#', '#', '#', '.', '.']\n",
      "['.', '.', '.', '#', '.', '.', '.', '.', '#', '.', '#', '.', '.', '#', '.', '#', '.', '.', '#', '.', '#', '.', '.', '#', '.', '#', '.', '.', '#', '.', '#', '.', '.', '#', '.', '#', '.', '.', '#', '.']\n",
      "['.', '.', '.', '#', '.', '.', '.', '#', '.', '.', '#', '.', '.', '.', '.', '#', '.', '.', '#', '.', '#', '.', '.', '#', '.', '#', '.', '.', '#', '.', '#', '.', '.', '#', '.', '#', '#', '#', '.', '.']\n",
      "['.', '.', '.', '#', '.', '.', '#', '.', '.', '.', '#', '.', '#', '#', '.', '#', '.', '.', '#', '.', '#', '#', '#', '#', '.', '#', '#', '#', '.', '.', '#', '#', '#', '.', '.', '#', '.', '.', '#', '.']\n",
      "['#', '.', '.', '#', '.', '#', '.', '.', '.', '.', '#', '.', '.', '#', '.', '#', '.', '.', '#', '.', '#', '.', '.', '#', '.', '#', '.', '.', '.', '.', '#', '.', '#', '.', '.', '#', '.', '.', '#', '.']\n",
      "['.', '#', '#', '.', '.', '#', '#', '#', '#', '.', '.', '#', '#', '#', '.', '.', '#', '#', '.', '.', '#', '.', '.', '#', '.', '#', '.', '.', '.', '.', '#', '.', '.', '#', '.', '#', '#', '#', '.', '.']\n"
     ]
    }
   ],
   "source": [
    "for line in readable_grid:\n",
    "    print(line)"
   ]
  }
 ],
 "metadata": {
  "kernelspec": {
   "display_name": "AoC21",
   "language": "python",
   "name": "python3"
  },
  "language_info": {
   "codemirror_mode": {
    "name": "ipython",
    "version": 3
   },
   "file_extension": ".py",
   "mimetype": "text/x-python",
   "name": "python",
   "nbconvert_exporter": "python",
   "pygments_lexer": "ipython3",
   "version": "3.12.1"
  }
 },
 "nbformat": 4,
 "nbformat_minor": 2
}
