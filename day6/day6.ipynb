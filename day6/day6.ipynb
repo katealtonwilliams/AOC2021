{
 "cells": [
  {
   "cell_type": "code",
   "execution_count": 17,
   "metadata": {},
   "outputs": [],
   "source": [
    "def parse_input(input_file: str) -> list[int]:\n",
    "    with open(input_file) as initial_fish_input:\n",
    "        fish_initial_state = initial_fish_input.readlines()\n",
    "        fish_initial_state = fish_initial_state[0].split(',')\n",
    "        for fish_index, fish in enumerate(fish_initial_state):\n",
    "            fish_initial_state[fish_index] = int(fish)\n",
    "    return fish_initial_state"
   ]
  },
  {
   "cell_type": "code",
   "execution_count": 18,
   "metadata": {},
   "outputs": [],
   "source": [
    "def update_for_new_day(current_fish: list[int]):\n",
    "    for fish_index, fish in enumerate(current_fish):\n",
    "        if fish == 0:\n",
    "            current_fish[fish_index] = 6\n",
    "            current_fish.append(9)\n",
    "        else:\n",
    "            current_fish[fish_index] = fish - 1"
   ]
  },
  {
   "cell_type": "code",
   "execution_count": 19,
   "metadata": {},
   "outputs": [],
   "source": [
    "def simulate_lanternfish(input_file: str, number_of_days: int):\n",
    "    fish = parse_input(input_file)\n",
    "    current_day = 0\n",
    "    while current_day < number_of_days:\n",
    "        update_for_new_day(fish)\n",
    "        current_day += 1\n",
    "        print(len(fish))\n",
    "    return len(fish)"
   ]
  },
  {
   "cell_type": "code",
   "execution_count": 20,
   "metadata": {},
   "outputs": [
    {
     "name": "stdout",
     "output_type": "stream",
     "text": [
      "5\n",
      "6\n",
      "7\n",
      "9\n",
      "10\n",
      "10\n",
      "10\n",
      "10\n",
      "11\n",
      "12\n",
      "15\n",
      "17\n",
      "19\n",
      "20\n",
      "20\n",
      "21\n",
      "22\n",
      "26\n",
      "29\n",
      "34\n",
      "37\n",
      "39\n",
      "41\n",
      "42\n",
      "47\n",
      "51\n",
      "60\n",
      "66\n",
      "73\n",
      "78\n",
      "81\n",
      "88\n",
      "93\n",
      "107\n",
      "117\n",
      "133\n",
      "144\n",
      "154\n",
      "166\n",
      "174\n",
      "195\n",
      "210\n",
      "240\n",
      "261\n",
      "287\n",
      "310\n",
      "328\n",
      "361\n",
      "384\n",
      "435\n",
      "471\n",
      "527\n",
      "571\n",
      "615\n",
      "671\n",
      "712\n",
      "796\n",
      "855\n",
      "962\n",
      "1042\n",
      "1142\n",
      "1242\n",
      "1327\n",
      "1467\n",
      "1567\n",
      "1758\n",
      "1897\n",
      "2104\n",
      "2284\n",
      "2469\n",
      "2709\n",
      "2894\n",
      "3225\n",
      "3464\n",
      "3862\n",
      "4181\n",
      "4573\n",
      "4993\n",
      "5363\n",
      "5934\n"
     ]
    },
    {
     "data": {
      "text/plain": [
       "5934"
      ]
     },
     "execution_count": 20,
     "metadata": {},
     "output_type": "execute_result"
    }
   ],
   "source": [
    "simulate_lanternfish('practise_input.txt', 80)"
   ]
  },
  {
   "cell_type": "code",
   "execution_count": 21,
   "metadata": {},
   "outputs": [
    {
     "name": "stdout",
     "output_type": "stream",
     "text": [
      "300\n",
      "505\n",
      "533\n",
      "552\n",
      "575\n",
      "600\n",
      "600\n",
      "600\n",
      "805\n",
      "833\n",
      "1057\n",
      "1108\n",
      "1152\n",
      "1175\n",
      "1200\n",
      "1405\n",
      "1433\n",
      "1862\n",
      "1941\n",
      "2209\n",
      "2283\n",
      "2352\n",
      "2580\n",
      "2633\n",
      "3267\n",
      "3374\n",
      "4071\n",
      "4224\n",
      "4561\n",
      "4863\n",
      "4985\n",
      "5847\n",
      "6007\n",
      "7338\n",
      "7598\n",
      "8632\n",
      "9087\n",
      "9546\n",
      "10710\n",
      "10992\n",
      "13185\n",
      "13605\n",
      "15970\n",
      "16685\n",
      "18178\n",
      "19797\n",
      "20538\n",
      "23895\n",
      "24597\n",
      "29155\n",
      "30290\n",
      "34148\n",
      "36482\n",
      "38716\n",
      "43692\n",
      "45135\n",
      "53050\n",
      "54887\n",
      "63303\n",
      "66772\n",
      "72864\n",
      "80174\n",
      "83851\n",
      "96742\n",
      "100022\n",
      "116353\n",
      "121659\n",
      "136167\n",
      "146946\n",
      "156715\n",
      "176916\n",
      "183873\n",
      "213095\n",
      "221681\n",
      "252520\n",
      "268605\n",
      "292882\n",
      "323862\n",
      "340588\n",
      "390011\n"
     ]
    },
    {
     "data": {
      "text/plain": [
       "390011"
      ]
     },
     "execution_count": 21,
     "metadata": {},
     "output_type": "execute_result"
    }
   ],
   "source": [
    "simulate_lanternfish('real_input.txt', 80)"
   ]
  },
  {
   "cell_type": "markdown",
   "metadata": {},
   "source": [
    "##### Part 2"
   ]
  },
  {
   "cell_type": "code",
   "execution_count": 24,
   "metadata": {},
   "outputs": [],
   "source": [
    "def simulate_lots_of_lanternfish(input_file: str, number_of_days: int):\n",
    "    fish = parse_input(input_file)\n",
    "    fish_summary = [fish.count(i) for i in range(9)]\n",
    "    current_day = 0\n",
    "    while current_day < number_of_days:\n",
    "        fish_at_0 = fish_summary.pop(0)\n",
    "        fish_summary[6] += fish_at_0\n",
    "        fish_summary.append(fish_at_0)\n",
    "        current_day += 1\n",
    "    return sum(fish_summary)"
   ]
  },
  {
   "cell_type": "code",
   "execution_count": 25,
   "metadata": {},
   "outputs": [
    {
     "data": {
      "text/plain": [
       "26984457539"
      ]
     },
     "execution_count": 25,
     "metadata": {},
     "output_type": "execute_result"
    }
   ],
   "source": [
    "simulate_lots_of_lanternfish('practise_input.txt', 256)"
   ]
  },
  {
   "cell_type": "code",
   "execution_count": 26,
   "metadata": {},
   "outputs": [
    {
     "data": {
      "text/plain": [
       "1746710169834"
      ]
     },
     "execution_count": 26,
     "metadata": {},
     "output_type": "execute_result"
    }
   ],
   "source": [
    "simulate_lots_of_lanternfish('real_input.txt', 256)"
   ]
  }
 ],
 "metadata": {
  "kernelspec": {
   "display_name": "AoC21",
   "language": "python",
   "name": "python3"
  },
  "language_info": {
   "codemirror_mode": {
    "name": "ipython",
    "version": 3
   },
   "file_extension": ".py",
   "mimetype": "text/x-python",
   "name": "python",
   "nbconvert_exporter": "python",
   "pygments_lexer": "ipython3",
   "version": "3.12.1"
  }
 },
 "nbformat": 4,
 "nbformat_minor": 2
}
