{
 "cells": [
  {
   "cell_type": "code",
   "execution_count": 1,
   "metadata": {},
   "outputs": [],
   "source": [
    "def parse_input(input_file: str) -> list[int]:\n",
    "    with open(input_file) as initial_fish_input:\n",
    "        fish_initial_state = initial_fish_input.readlines()\n",
    "        fish_initial_state = fish_initial_state[0].split(',')\n",
    "        for fish_index, fish in enumerate(fish_initial_state):\n",
    "            fish_initial_state[fish_index] = int(fish)\n",
    "    return fish_initial_state"
   ]
  },
  {
   "cell_type": "code",
   "execution_count": 2,
   "metadata": {},
   "outputs": [],
   "source": [
    "def update_for_new_day(current_fish: list[int]):\n",
    "    for fish_index, fish in enumerate(current_fish):\n",
    "        if fish == 0:\n",
    "            current_fish[fish_index] = 6\n",
    "            current_fish.append(9)\n",
    "        else:\n",
    "            current_fish[fish_index] = fish - 1"
   ]
  },
  {
   "cell_type": "code",
   "execution_count": 3,
   "metadata": {},
   "outputs": [],
   "source": [
    "def simulate_lanternfish(input_file: str, number_of_days: int):\n",
    "    fish = parse_input(input_file)\n",
    "    current_day = 0\n",
    "    while current_day < number_of_days:\n",
    "        update_for_new_day(fish)\n",
    "        current_day += 1\n",
    "    return len(fish)"
   ]
  },
  {
   "cell_type": "code",
   "execution_count": 4,
   "metadata": {},
   "outputs": [
    {
     "data": {
      "text/plain": [
       "5934"
      ]
     },
     "execution_count": 4,
     "metadata": {},
     "output_type": "execute_result"
    }
   ],
   "source": [
    "simulate_lanternfish('practise_input.txt', 80)"
   ]
  },
  {
   "cell_type": "code",
   "execution_count": 5,
   "metadata": {},
   "outputs": [
    {
     "data": {
      "text/plain": [
       "390011"
      ]
     },
     "execution_count": 5,
     "metadata": {},
     "output_type": "execute_result"
    }
   ],
   "source": [
    "simulate_lanternfish('real_input.txt', 80)"
   ]
  },
  {
   "cell_type": "markdown",
   "metadata": {},
   "source": [
    "##### Part 2"
   ]
  },
  {
   "cell_type": "code",
   "execution_count": 6,
   "metadata": {},
   "outputs": [],
   "source": [
    "def simulate_lots_of_lanternfish(input_file: str, number_of_days: int):\n",
    "    fish = parse_input(input_file)\n",
    "    fish_summary = [fish.count(i) for i in range(9)]\n",
    "    current_day = 0\n",
    "    while current_day < number_of_days:\n",
    "        fish_at_0 = fish_summary.pop(0)\n",
    "        fish_summary[6] += fish_at_0\n",
    "        fish_summary.append(fish_at_0)\n",
    "        current_day += 1\n",
    "    return sum(fish_summary)"
   ]
  },
  {
   "cell_type": "code",
   "execution_count": 7,
   "metadata": {},
   "outputs": [
    {
     "data": {
      "text/plain": [
       "26984457539"
      ]
     },
     "execution_count": 7,
     "metadata": {},
     "output_type": "execute_result"
    }
   ],
   "source": [
    "simulate_lots_of_lanternfish('practise_input.txt', 256)"
   ]
  },
  {
   "cell_type": "code",
   "execution_count": 8,
   "metadata": {},
   "outputs": [
    {
     "data": {
      "text/plain": [
       "1746710169834"
      ]
     },
     "execution_count": 8,
     "metadata": {},
     "output_type": "execute_result"
    }
   ],
   "source": [
    "simulate_lots_of_lanternfish('real_input.txt', 256)"
   ]
  }
 ],
 "metadata": {
  "kernelspec": {
   "display_name": "AoC21",
   "language": "python",
   "name": "python3"
  },
  "language_info": {
   "codemirror_mode": {
    "name": "ipython",
    "version": 3
   },
   "file_extension": ".py",
   "mimetype": "text/x-python",
   "name": "python",
   "nbconvert_exporter": "python",
   "pygments_lexer": "ipython3",
   "version": "3.12.1"
  }
 },
 "nbformat": 4,
 "nbformat_minor": 2
}
