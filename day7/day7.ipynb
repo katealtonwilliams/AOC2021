{
 "cells": [
  {
   "cell_type": "markdown",
   "metadata": {},
   "source": [
    "Part 1"
   ]
  },
  {
   "cell_type": "code",
   "execution_count": 51,
   "metadata": {},
   "outputs": [],
   "source": [
    "def parse_input(input_file: str) -> list[int]:\n",
    "    with open(input_file) as crab_positions:\n",
    "        return list(map(int, crab_positions.readlines()[0].strip().split(',')))"
   ]
  },
  {
   "cell_type": "code",
   "execution_count": 52,
   "metadata": {},
   "outputs": [],
   "source": [
    "def calculate_total_fuel_normal(crab_positions: list[int], move_to_position: int) -> int:\n",
    "    total_fuel = 0\n",
    "    for crab in crab_positions:\n",
    "        total_fuel += abs(crab - move_to_position)\n",
    "    return total_fuel"
   ]
  },
  {
   "cell_type": "code",
   "execution_count": 53,
   "metadata": {},
   "outputs": [],
   "source": [
    "def find_lowest_fuel(input_file: str, calculate_total_fuel_method: callable) -> int:\n",
    "    crab_positions = parse_input(input_file)\n",
    "    max_crab_position = max(crab_positions)\n",
    "    lowest_fuel = calculate_total_fuel_method(crab_positions, max_crab_position)\n",
    "    for position in range(max_crab_position + 1): \n",
    "        if calculate_total_fuel_method(crab_positions, position) < lowest_fuel:\n",
    "            lowest_fuel = calculate_total_fuel_method(crab_positions, position)\n",
    "    return lowest_fuel"
   ]
  },
  {
   "cell_type": "code",
   "execution_count": 54,
   "metadata": {},
   "outputs": [
    {
     "data": {
      "text/plain": [
       "37"
      ]
     },
     "execution_count": 54,
     "metadata": {},
     "output_type": "execute_result"
    }
   ],
   "source": [
    "find_lowest_fuel('practise_input.txt', calculate_total_fuel_normal)"
   ]
  },
  {
   "cell_type": "code",
   "execution_count": 55,
   "metadata": {},
   "outputs": [
    {
     "data": {
      "text/plain": [
       "342641"
      ]
     },
     "execution_count": 55,
     "metadata": {},
     "output_type": "execute_result"
    }
   ],
   "source": [
    "find_lowest_fuel('real_input.txt', calculate_total_fuel_normal)"
   ]
  },
  {
   "cell_type": "markdown",
   "metadata": {},
   "source": [
    "Part 2"
   ]
  },
  {
   "cell_type": "code",
   "execution_count": 56,
   "metadata": {},
   "outputs": [],
   "source": [
    "def find_triangle_number(number: int) -> int:\n",
    "    triangle_number = 0\n",
    "    for i in range(number+1):\n",
    "        triangle_number += i\n",
    "    return triangle_number"
   ]
  },
  {
   "cell_type": "code",
   "execution_count": 57,
   "metadata": {},
   "outputs": [],
   "source": [
    "def calculate_total_fuel_cumulative(crab_positions: list[int], move_to_position: int) -> int:\n",
    "    total_fuel = 0\n",
    "    for crab in crab_positions:\n",
    "        steps = abs(crab - move_to_position)\n",
    "        total_fuel += find_triangle_number(steps)\n",
    "    return total_fuel"
   ]
  },
  {
   "cell_type": "code",
   "execution_count": 58,
   "metadata": {},
   "outputs": [
    {
     "data": {
      "text/plain": [
       "168"
      ]
     },
     "execution_count": 58,
     "metadata": {},
     "output_type": "execute_result"
    }
   ],
   "source": [
    "find_lowest_fuel('practise_input.txt', calculate_total_fuel_cumulative)"
   ]
  },
  {
   "cell_type": "code",
   "execution_count": 59,
   "metadata": {},
   "outputs": [
    {
     "data": {
      "text/plain": [
       "93006301"
      ]
     },
     "execution_count": 59,
     "metadata": {},
     "output_type": "execute_result"
    }
   ],
   "source": [
    "find_lowest_fuel('real_input.txt', calculate_total_fuel_cumulative)"
   ]
  }
 ],
 "metadata": {
  "kernelspec": {
   "display_name": "AoC21",
   "language": "python",
   "name": "python3"
  },
  "language_info": {
   "codemirror_mode": {
    "name": "ipython",
    "version": 3
   },
   "file_extension": ".py",
   "mimetype": "text/x-python",
   "name": "python",
   "nbconvert_exporter": "python",
   "pygments_lexer": "ipython3",
   "version": "3.12.1"
  }
 },
 "nbformat": 4,
 "nbformat_minor": 2
}
