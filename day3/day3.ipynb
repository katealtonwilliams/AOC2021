{
 "cells": [
  {
   "cell_type": "markdown",
   "metadata": {},
   "source": [
    "##### Part 1"
   ]
  },
  {
   "cell_type": "code",
   "execution_count": 335,
   "metadata": {},
   "outputs": [],
   "source": [
    "import numpy as np\n",
    "import copy"
   ]
  },
  {
   "cell_type": "code",
   "execution_count": 336,
   "metadata": {},
   "outputs": [],
   "source": [
    "def parse_input(input_file: str) -> np.ndarray:\n",
    "    with open(input_file) as power_consumption_report:\n",
    "        number_grid = []\n",
    "        for number in power_consumption_report.readlines():\n",
    "            number = [*number.strip()]\n",
    "            for digit_index, digit in enumerate(number):\n",
    "                number[digit_index] = int(digit)\n",
    "            number_grid.append(number)\n",
    "    number_grid = np.array(number_grid)\n",
    "    return number_grid.T"
   ]
  },
  {
   "cell_type": "code",
   "execution_count": 337,
   "metadata": {},
   "outputs": [],
   "source": [
    "def generate_gamma_and_epsilon(all_positions: np.ndarray) -> tuple[list, list]:\n",
    "    gamma = []\n",
    "    epsilon = []\n",
    "    for position in all_positions:\n",
    "        if np.count_nonzero(position == 1) > np.count_nonzero(position == 0):\n",
    "            gamma.append(1)\n",
    "            epsilon.append(0)\n",
    "        else:\n",
    "            gamma.append(0)\n",
    "            epsilon.append(1)\n",
    "    return gamma, epsilon\n"
   ]
  },
  {
   "cell_type": "code",
   "execution_count": 338,
   "metadata": {},
   "outputs": [],
   "source": [
    "def convert_binary_to_decimal(rate: list[int]) -> int:\n",
    "    decimal_number = 0\n",
    "    for number_index, number in enumerate(rate):\n",
    "        decimal_number += number * 2 ** (len(rate) - (number_index + 1))\n",
    "    return decimal_number"
   ]
  },
  {
   "cell_type": "code",
   "execution_count": 339,
   "metadata": {},
   "outputs": [],
   "source": [
    "def calculate_consumption(input_file: str) -> int:\n",
    "    all_positions = parse_input(input_file)\n",
    "    gamma, epsilon = generate_gamma_and_epsilon(all_positions)\n",
    "    return convert_binary_to_decimal(gamma) * convert_binary_to_decimal(epsilon)"
   ]
  },
  {
   "cell_type": "code",
   "execution_count": 340,
   "metadata": {},
   "outputs": [
    {
     "data": {
      "text/plain": [
       "198"
      ]
     },
     "execution_count": 340,
     "metadata": {},
     "output_type": "execute_result"
    }
   ],
   "source": [
    "calculate_consumption('practise_input.txt')"
   ]
  },
  {
   "cell_type": "code",
   "execution_count": 341,
   "metadata": {},
   "outputs": [
    {
     "data": {
      "text/plain": [
       "2595824"
      ]
     },
     "execution_count": 341,
     "metadata": {},
     "output_type": "execute_result"
    }
   ],
   "source": [
    "calculate_consumption('real_input.txt')"
   ]
  },
  {
   "cell_type": "markdown",
   "metadata": {},
   "source": [
    "##### Part 2"
   ]
  },
  {
   "cell_type": "code",
   "execution_count": 342,
   "metadata": {},
   "outputs": [],
   "source": [
    "def find_digit(position_to_check: np.ndarray, rating_type: str, ) -> int:\n",
    "    digits, digit_counts = np.unique(position_to_check, return_counts=True)\n",
    "    if len(digits) == 1:\n",
    "        return digits\n",
    "    else:\n",
    "        if rating_type == 'oxygen generator rating':\n",
    "            if digit_counts[0] > digit_counts[1]:\n",
    "                return 0\n",
    "            else:\n",
    "                return 1\n",
    "        if rating_type == 'CO2 scrubber rating':\n",
    "            if digit_counts[0] <= digit_counts[1]:\n",
    "                return 0\n",
    "            else:\n",
    "                return 1"
   ]
  },
  {
   "cell_type": "code",
   "execution_count": 343,
   "metadata": {},
   "outputs": [],
   "source": [
    "def generate_rating(all_positions: np.ndarray, rating_type: str) -> list:\n",
    "    all_positions_copy = copy.deepcopy(all_positions)\n",
    "    current_position = 0\n",
    "    while all_positions_copy.shape[1] > 1:\n",
    "        columns_to_keep = []\n",
    "        position_to_check = all_positions_copy[current_position, ]\n",
    "        digit_to_check = find_digit(position_to_check, rating_type)\n",
    "        for digit_index, digit in enumerate(position_to_check):\n",
    "            if digit == digit_to_check:\n",
    "                columns_to_keep.append(digit_index)\n",
    "        all_positions_copy = all_positions_copy[:, columns_to_keep]\n",
    "        current_position += 1\n",
    "    rating = []\n",
    "    for digit in all_positions_copy:\n",
    "        rating.append(digit[0])\n",
    "    return rating"
   ]
  },
  {
   "cell_type": "code",
   "execution_count": 344,
   "metadata": {},
   "outputs": [],
   "source": [
    "def calculate_life_support(input_file: str) -> int:\n",
    "    all_positions = parse_input(input_file)\n",
    "    oxygen_generater_rating = generate_rating(all_positions, 'oxygen generator rating')\n",
    "    co2_scrubber_rating = generate_rating(all_positions, 'CO2 scrubber rating')\n",
    "    return convert_binary_to_decimal(oxygen_generater_rating)*convert_binary_to_decimal(co2_scrubber_rating)\n"
   ]
  },
  {
   "cell_type": "code",
   "execution_count": 345,
   "metadata": {},
   "outputs": [
    {
     "data": {
      "text/plain": [
       "230"
      ]
     },
     "execution_count": 345,
     "metadata": {},
     "output_type": "execute_result"
    }
   ],
   "source": [
    "calculate_life_support('practise_input.txt')"
   ]
  },
  {
   "cell_type": "code",
   "execution_count": 346,
   "metadata": {},
   "outputs": [
    {
     "data": {
      "text/plain": [
       "2135254"
      ]
     },
     "execution_count": 346,
     "metadata": {},
     "output_type": "execute_result"
    }
   ],
   "source": [
    "calculate_life_support('real_input.txt')"
   ]
  }
 ],
 "metadata": {
  "kernelspec": {
   "display_name": "AoC21",
   "language": "python",
   "name": "python3"
  },
  "language_info": {
   "codemirror_mode": {
    "name": "ipython",
    "version": 3
   },
   "file_extension": ".py",
   "mimetype": "text/x-python",
   "name": "python",
   "nbconvert_exporter": "python",
   "pygments_lexer": "ipython3",
   "version": "3.12.1"
  }
 },
 "nbformat": 4,
 "nbformat_minor": 2
}
