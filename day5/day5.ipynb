{
 "cells": [
  {
   "cell_type": "code",
   "execution_count": 78,
   "metadata": {},
   "outputs": [],
   "source": [
    "from collections import Counter"
   ]
  },
  {
   "cell_type": "code",
   "execution_count": 79,
   "metadata": {},
   "outputs": [],
   "source": [
    "def parse_input(input_file: str) -> list[tuple[tuple]]:\n",
    "    with open(input_file) as vent_line_descriptions:\n",
    "        vent_lines = []\n",
    "        for vent_line in vent_line_descriptions.readlines():\n",
    "            vent_line = vent_line.strip().split(' -> ')\n",
    "            x_1 = int(vent_line[0].split(',')[0])\n",
    "            y_1 = int(vent_line[0].split(',')[1])\n",
    "            x_2 = int(vent_line[1].split(',')[0])\n",
    "            y_2 = int(vent_line[1].split(',')[1])\n",
    "            line_coords = {'x1': x_1, 'x2': x_2, 'y1': y_1, 'y2': y_2}\n",
    "            vent_lines.append(line_coords)\n",
    "    return vent_lines"
   ]
  },
  {
   "cell_type": "code",
   "execution_count": 80,
   "metadata": {},
   "outputs": [],
   "source": [
    "def find_straight_lines(vent_line_coords: list[tuple[tuple]]) -> list[tuple[tuple]]:\n",
    "    straight_lines = []\n",
    "    for line_coords in vent_line_coords:\n",
    "        if line_coords['x1'] == line_coords['x2'] or line_coords['y1'] == line_coords['y2']:\n",
    "            straight_lines.append(line_coords)\n",
    "    return straight_lines"
   ]
  },
  {
   "cell_type": "code",
   "execution_count": 81,
   "metadata": {},
   "outputs": [],
   "source": [
    "def get_line_equation(line_coords: tuple[tuple]) -> callable:\n",
    "    \n",
    "    x1 = line_coords['x1']\n",
    "    y1 = line_coords['y1']\n",
    "    x2 = line_coords['x2']\n",
    "    y2 = line_coords['y2']\n",
    "\n",
    "    slope = (y2 - y1) / (x2 - x1)\n",
    "\n",
    "    intercept = y1 - (slope * x1)\n",
    "\n",
    "    def find_y(x: int) -> float:\n",
    "        return slope*x + intercept\n",
    "    \n",
    "    return find_y"
   ]
  },
  {
   "cell_type": "code",
   "execution_count": 82,
   "metadata": {},
   "outputs": [],
   "source": [
    "def get_all_coordinates(vent_line_coords: list[tuple[tuple]]) -> list[tuple]:\n",
    "    all_coords = []\n",
    "    for line_coords in vent_line_coords:\n",
    "        x1 = min(line_coords['x1'], line_coords['x2'])\n",
    "        x2 = max(line_coords['x1'], line_coords['x2'])\n",
    "\n",
    "        if x1 == x2:\n",
    "            y1 = min(line_coords['y1'], line_coords['y2'])\n",
    "            y2 = max(line_coords['y1'], line_coords['y2'])\n",
    "\n",
    "            for y in range(y1, y2+1):\n",
    "                all_coords.append((x1, y),)\n",
    "        else:\n",
    "            f = get_line_equation(line_coords)\n",
    "            for x in range(x1, x2+1):\n",
    "                all_coords.append((x, f(x)),)\n",
    "    return all_coords"
   ]
  },
  {
   "cell_type": "code",
   "execution_count": 83,
   "metadata": {},
   "outputs": [],
   "source": [
    "def find_overlapping_points(input_file: str, ignore_diagonal_lines: bool) -> int:\n",
    "    if ignore_diagonal_lines:\n",
    "        vent_line_coords = find_straight_lines(parse_input(input_file))\n",
    "    else:\n",
    "        vent_line_coords = parse_input(input_file)\n",
    "    all_coordinates = get_all_coordinates (vent_line_coords)\n",
    "    coordinate_count = Counter(all_coordinates)\n",
    "    count_of_overlapping_points = 0\n",
    "    for coordinate_count in coordinate_count.values():\n",
    "        if coordinate_count > 1:\n",
    "            count_of_overlapping_points += 1\n",
    "    return count_of_overlapping_points"
   ]
  },
  {
   "cell_type": "code",
   "execution_count": 84,
   "metadata": {},
   "outputs": [
    {
     "data": {
      "text/plain": [
       "5"
      ]
     },
     "execution_count": 84,
     "metadata": {},
     "output_type": "execute_result"
    }
   ],
   "source": [
    "find_overlapping_points('practise_input.txt', True)"
   ]
  },
  {
   "cell_type": "code",
   "execution_count": 85,
   "metadata": {},
   "outputs": [
    {
     "data": {
      "text/plain": [
       "6005"
      ]
     },
     "execution_count": 85,
     "metadata": {},
     "output_type": "execute_result"
    }
   ],
   "source": [
    "find_overlapping_points('real_input.txt', True)"
   ]
  },
  {
   "cell_type": "code",
   "execution_count": 86,
   "metadata": {},
   "outputs": [
    {
     "data": {
      "text/plain": [
       "12"
      ]
     },
     "execution_count": 86,
     "metadata": {},
     "output_type": "execute_result"
    }
   ],
   "source": [
    "find_overlapping_points('practise_input.txt', False)"
   ]
  },
  {
   "cell_type": "code",
   "execution_count": 87,
   "metadata": {},
   "outputs": [
    {
     "data": {
      "text/plain": [
       "23864"
      ]
     },
     "execution_count": 87,
     "metadata": {},
     "output_type": "execute_result"
    }
   ],
   "source": [
    "find_overlapping_points('real_input.txt', False)"
   ]
  }
 ],
 "metadata": {
  "kernelspec": {
   "display_name": "AoC21",
   "language": "python",
   "name": "python3"
  },
  "language_info": {
   "codemirror_mode": {
    "name": "ipython",
    "version": 3
   },
   "file_extension": ".py",
   "mimetype": "text/x-python",
   "name": "python",
   "nbconvert_exporter": "python",
   "pygments_lexer": "ipython3",
   "version": "3.12.1"
  }
 },
 "nbformat": 4,
 "nbformat_minor": 2
}
