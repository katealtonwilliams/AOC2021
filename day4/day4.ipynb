{
 "cells": [
  {
   "cell_type": "markdown",
   "metadata": {},
   "source": [
    "##### Part 1"
   ]
  },
  {
   "cell_type": "code",
   "execution_count": 104,
   "metadata": {},
   "outputs": [],
   "source": [
    "import numpy as np\n",
    "from enum import Enum"
   ]
  },
  {
   "cell_type": "code",
   "execution_count": 105,
   "metadata": {},
   "outputs": [],
   "source": [
    "class CallStatus(Enum):\n",
    "    CALLED = 'C'"
   ]
  },
  {
   "cell_type": "code",
   "execution_count": 106,
   "metadata": {},
   "outputs": [],
   "source": [
    "def parse_input(input_file: str) -> tuple[list[int], np.ndarray]:\n",
    "    with open(input_file) as bingo_calls_and_cards:\n",
    "        all_lines =[]\n",
    "        for line in bingo_calls_and_cards.readlines():\n",
    "            line = line.strip()\n",
    "            if line:\n",
    "                all_lines.append(line.strip())\n",
    "        bingo_calls = all_lines[0].split(',')\n",
    "        bingo_cards = all_lines[1:]\n",
    "        for line_index, line in enumerate(bingo_cards):\n",
    "            line = line.split()\n",
    "            bingo_cards[line_index] = line\n",
    "        bingo_cards = [bingo_cards[i:i+5] for i in range(0,len(bingo_cards)-4, 5)]\n",
    "    return bingo_calls, np.array(bingo_cards)"
   ]
  },
  {
   "cell_type": "code",
   "execution_count": 107,
   "metadata": {},
   "outputs": [],
   "source": [
    "def update_bingo_card(bingo_card: np.ndarray, number_called: str):\n",
    "    bingo_card[bingo_card==number_called] = CallStatus.CALLED.value\n",
    "    return bingo_card"
   ]
  },
  {
   "cell_type": "code",
   "execution_count": 108,
   "metadata": {},
   "outputs": [],
   "source": [
    "def call_number(bingo_call, bingo_cards):\n",
    "    for card_index, card in enumerate(bingo_cards):\n",
    "        bingo_cards[card_index] = update_bingo_card(card, bingo_call)"
   ]
  },
  {
   "cell_type": "code",
   "execution_count": 109,
   "metadata": {},
   "outputs": [],
   "source": [
    "def check_for_completed_column_or_row(bingo_card: np.ndarray) -> int:\n",
    "    return [CallStatus.CALLED.value]*5 in bingo_card.tolist() or [CallStatus.CALLED.value]*5 in bingo_card.transpose().tolist()"
   ]
  },
  {
   "cell_type": "code",
   "execution_count": 110,
   "metadata": {},
   "outputs": [],
   "source": [
    "def sum_bingo_card(bingo_card: np.ndarray) -> int:\n",
    "    total = 0\n",
    "    for line in bingo_card:\n",
    "        for number in line:\n",
    "            if number.isnumeric():\n",
    "                total += int(number)\n",
    "    return total"
   ]
  },
  {
   "cell_type": "code",
   "execution_count": 111,
   "metadata": {},
   "outputs": [],
   "source": [
    "def play_bingo(input_file: str) -> int:\n",
    "    bingo_calls, bingo_cards = parse_input(input_file)\n",
    "    found_winner = False\n",
    "    for call in bingo_calls:\n",
    "        if found_winner:\n",
    "            return winning_total\n",
    "        call_number(call, bingo_cards)\n",
    "        for bingo_card in bingo_cards:\n",
    "            if found_winner := check_for_completed_column_or_row(bingo_card):\n",
    "                winning_total = int(call) * sum_bingo_card(bingo_card)\n",
    "                break"
   ]
  },
  {
   "cell_type": "code",
   "execution_count": 112,
   "metadata": {},
   "outputs": [
    {
     "data": {
      "text/plain": [
       "4512"
      ]
     },
     "execution_count": 112,
     "metadata": {},
     "output_type": "execute_result"
    }
   ],
   "source": [
    "play_bingo('practise_input.txt')"
   ]
  },
  {
   "cell_type": "code",
   "execution_count": 113,
   "metadata": {},
   "outputs": [
    {
     "data": {
      "text/plain": [
       "25410"
      ]
     },
     "execution_count": 113,
     "metadata": {},
     "output_type": "execute_result"
    }
   ],
   "source": [
    "play_bingo('real_input.txt')"
   ]
  },
  {
   "cell_type": "markdown",
   "metadata": {},
   "source": [
    "##### Part 2"
   ]
  },
  {
   "cell_type": "code",
   "execution_count": 114,
   "metadata": {},
   "outputs": [],
   "source": [
    "def remove_winning_cards(bingo_cards: np.ndarray):\n",
    "    bingo_cards_to_remove = []\n",
    "    for bingo_card_index, bingo_card in enumerate(bingo_cards):\n",
    "        if check_for_completed_column_or_row(bingo_card):\n",
    "            bingo_cards_to_remove.append(bingo_card_index)\n",
    "    return np.delete(bingo_cards, bingo_cards_to_remove, 0)"
   ]
  },
  {
   "cell_type": "code",
   "execution_count": 115,
   "metadata": {},
   "outputs": [],
   "source": [
    "def play_bingo_to_lose(input_file: str) -> int:\n",
    "    bingo_calls, bingo_cards = parse_input(input_file)\n",
    "    for call in bingo_calls:\n",
    "        call_number(call, bingo_cards)\n",
    "        if len(bingo_cards) < 2 and check_for_completed_column_or_row(bingo_cards[0]):\n",
    "            return int(call) * sum_bingo_card(bingo_cards[0])\n",
    "        bingo_cards = remove_winning_cards(bingo_cards)"
   ]
  },
  {
   "cell_type": "code",
   "execution_count": 116,
   "metadata": {},
   "outputs": [
    {
     "data": {
      "text/plain": [
       "1924"
      ]
     },
     "execution_count": 116,
     "metadata": {},
     "output_type": "execute_result"
    }
   ],
   "source": [
    "play_bingo_to_lose('practise_input.txt')"
   ]
  },
  {
   "cell_type": "code",
   "execution_count": 117,
   "metadata": {},
   "outputs": [
    {
     "data": {
      "text/plain": [
       "2730"
      ]
     },
     "execution_count": 117,
     "metadata": {},
     "output_type": "execute_result"
    }
   ],
   "source": [
    "play_bingo_to_lose('real_input.txt')"
   ]
  }
 ],
 "metadata": {
  "kernelspec": {
   "display_name": "AoC21",
   "language": "python",
   "name": "python3"
  },
  "language_info": {
   "codemirror_mode": {
    "name": "ipython",
    "version": 3
   },
   "file_extension": ".py",
   "mimetype": "text/x-python",
   "name": "python",
   "nbconvert_exporter": "python",
   "pygments_lexer": "ipython3",
   "version": "3.12.1"
  }
 },
 "nbformat": 4,
 "nbformat_minor": 2
}
