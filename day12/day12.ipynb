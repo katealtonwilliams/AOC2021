{
 "cells": [
  {
   "cell_type": "code",
   "execution_count": 197,
   "metadata": {},
   "outputs": [],
   "source": [
    "import copy\n",
    "import heapq\n",
    "from typing import Callable\n",
    "from collections import Counter"
   ]
  },
  {
   "cell_type": "code",
   "execution_count": 198,
   "metadata": {},
   "outputs": [],
   "source": [
    "def parse_input(input_file: str) -> tuple[list[tuple[str,str]]]:\n",
    "    with open(input_file) as rough_cave_map:\n",
    "        all_paths = [tuple(line.strip().split('-')) for line in rough_cave_map.readlines()]\n",
    "    path_starts = [list(step) for step in all_paths if 'start' in step]\n",
    "    normalised_start = [[lst[1], lst[0]] if lst[1] == 'start' else lst for lst in path_starts]\n",
    "    continuing_connections = [step for step in all_paths if 'start' not in step]\n",
    "    return normalised_start, continuing_connections"
   ]
  },
  {
   "cell_type": "code",
   "execution_count": 199,
   "metadata": {},
   "outputs": [],
   "source": [
    "def find_possible_next_steps_part_1(path_so_far: list[str], continuing_connections: list[tuple[int, int]]) -> list[tuple[int, int]]:\n",
    "    current_step = path_so_far[-1]\n",
    "    possible_next_steps = [connection[1] for connection in continuing_connections if connection[0] == current_step]\n",
    "    possible_next_steps.extend([connection[0] for connection in continuing_connections if connection[1] == current_step])\n",
    "    actual_next_steps = []\n",
    "    for step in set(possible_next_steps):\n",
    "        if step.islower():\n",
    "            if path_so_far.count(step) < 1:\n",
    "                actual_next_steps.append(step)\n",
    "        else:\n",
    "            actual_next_steps.append(step)\n",
    "    return actual_next_steps"
   ]
  },
  {
   "cell_type": "code",
   "execution_count": 200,
   "metadata": {},
   "outputs": [],
   "source": [
    "def find_paths(path_starts: list[list[int]], continuing_connections: list[tuple[int, int]], find_possible_next_steps: Callable) -> int:\n",
    "    incompleted_paths = copy.deepcopy(path_starts)\n",
    "    heapq.heapify(incompleted_paths)\n",
    "    completed_paths = []\n",
    "    while len(incompleted_paths) > 0:\n",
    "        current_path = heapq.heappop(incompleted_paths)\n",
    "        possible_next_steps = find_possible_next_steps(current_path, continuing_connections)\n",
    "        if possible_next_steps != []:\n",
    "            for next_step in possible_next_steps:\n",
    "                extended_path = current_path + [next_step]\n",
    "                if next_step != 'end':\n",
    "                    heapq.heappush(incompleted_paths, extended_path)\n",
    "                if next_step == 'end':\n",
    "                    completed_paths.append(extended_path)\n",
    "    return completed_paths"
   ]
  },
  {
   "cell_type": "code",
   "execution_count": 201,
   "metadata": {},
   "outputs": [],
   "source": [
    "def find_number_of_paths(input_file: str, possible_next_steps_method: Callable) -> int:\n",
    "    path_starts, continuing_connections = parse_input(input_file)\n",
    "    all_paths = find_paths(path_starts, continuing_connections, possible_next_steps_method)\n",
    "    return len(all_paths)"
   ]
  },
  {
   "cell_type": "code",
   "execution_count": 202,
   "metadata": {},
   "outputs": [
    {
     "data": {
      "text/plain": [
       "10"
      ]
     },
     "execution_count": 202,
     "metadata": {},
     "output_type": "execute_result"
    }
   ],
   "source": [
    "find_number_of_paths('practise_practise_input.txt', find_possible_next_steps_part_1)"
   ]
  },
  {
   "cell_type": "code",
   "execution_count": 203,
   "metadata": {},
   "outputs": [
    {
     "data": {
      "text/plain": [
       "19"
      ]
     },
     "execution_count": 203,
     "metadata": {},
     "output_type": "execute_result"
    }
   ],
   "source": [
    "find_number_of_paths('practise_input.txt', find_possible_next_steps_part_1)"
   ]
  },
  {
   "cell_type": "code",
   "execution_count": 204,
   "metadata": {},
   "outputs": [
    {
     "data": {
      "text/plain": [
       "5874"
      ]
     },
     "execution_count": 204,
     "metadata": {},
     "output_type": "execute_result"
    }
   ],
   "source": [
    "find_number_of_paths('real_input.txt', find_possible_next_steps_part_1)"
   ]
  },
  {
   "cell_type": "markdown",
   "metadata": {},
   "source": [
    "Part 2"
   ]
  },
  {
   "cell_type": "code",
   "execution_count": 213,
   "metadata": {},
   "outputs": [],
   "source": [
    "def find_possible_next_steps_part_2(path_so_far: list[str], continuing_connections: list[tuple[int, int]]) -> list[tuple[int, int]]:\n",
    "    current_step = path_so_far[-1]\n",
    "    possible_next_steps = [connection[1] for connection in continuing_connections if connection[0] == current_step]\n",
    "    possible_next_steps.extend([connection[0] for connection in continuing_connections if connection[1] == current_step])\n",
    "    actual_next_steps = []\n",
    "    for step in set(possible_next_steps):\n",
    "        if step.islower():\n",
    "            if path_so_far.count(step) < 1:\n",
    "                actual_next_steps.append(step)\n",
    "            if 1 <= path_so_far.count(step) < 2:\n",
    "                lower_case_steps = [step for step in path_so_far if step.islower() and step != 'start']\n",
    "                if max(list(Counter(lower_case_steps).values())) < 2:\n",
    "                    actual_next_steps.append(step)\n",
    "        else:\n",
    "            actual_next_steps.append(step)\n",
    "    return actual_next_steps"
   ]
  },
  {
   "cell_type": "code",
   "execution_count": 214,
   "metadata": {},
   "outputs": [
    {
     "data": {
      "text/plain": [
       "36"
      ]
     },
     "execution_count": 214,
     "metadata": {},
     "output_type": "execute_result"
    }
   ],
   "source": [
    "find_number_of_paths('practise_practise_input.txt', find_possible_next_steps_part_2)"
   ]
  },
  {
   "cell_type": "code",
   "execution_count": 215,
   "metadata": {},
   "outputs": [
    {
     "data": {
      "text/plain": [
       "103"
      ]
     },
     "execution_count": 215,
     "metadata": {},
     "output_type": "execute_result"
    }
   ],
   "source": [
    "find_number_of_paths('practise_input.txt', find_possible_next_steps_part_2)"
   ]
  },
  {
   "cell_type": "code",
   "execution_count": 216,
   "metadata": {},
   "outputs": [
    {
     "data": {
      "text/plain": [
       "153592"
      ]
     },
     "execution_count": 216,
     "metadata": {},
     "output_type": "execute_result"
    }
   ],
   "source": [
    "find_number_of_paths('real_input.txt', find_possible_next_steps_part_2)"
   ]
  }
 ],
 "metadata": {
  "kernelspec": {
   "display_name": "AoC21",
   "language": "python",
   "name": "python3"
  },
  "language_info": {
   "codemirror_mode": {
    "name": "ipython",
    "version": 3
   },
   "file_extension": ".py",
   "mimetype": "text/x-python",
   "name": "python",
   "nbconvert_exporter": "python",
   "pygments_lexer": "ipython3",
   "version": "3.12.1"
  }
 },
 "nbformat": 4,
 "nbformat_minor": 2
}
