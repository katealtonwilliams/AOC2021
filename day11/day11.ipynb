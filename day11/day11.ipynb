{
 "cells": [
  {
   "cell_type": "markdown",
   "metadata": {},
   "source": [
    "Part 1"
   ]
  },
  {
   "cell_type": "code",
   "execution_count": 90,
   "metadata": {},
   "outputs": [],
   "source": [
    "import numpy as np\n",
    "import copy"
   ]
  },
  {
   "cell_type": "code",
   "execution_count": 91,
   "metadata": {},
   "outputs": [],
   "source": [
    "def parse_input(input_file: str) -> np.ndarray:\n",
    "    with open(input_file) as octopus_grid:\n",
    "        return np.array([list(map(int, [*line.strip()])) \n",
    "                            for line in octopus_grid.readlines()])"
   ]
  },
  {
   "cell_type": "code",
   "execution_count": 92,
   "metadata": {},
   "outputs": [],
   "source": [
    "def increase_all_energy_by_one(octopus_grid: np.ndarray):\n",
    "    octopus_grid += 1"
   ]
  },
  {
   "cell_type": "code",
   "execution_count": 93,
   "metadata": {},
   "outputs": [],
   "source": [
    "myarray = parse_input('practise_practise_input.txt')"
   ]
  },
  {
   "cell_type": "code",
   "execution_count": 94,
   "metadata": {},
   "outputs": [],
   "source": [
    "def find_octopi_where_energy_over_nine(octopus_grid: np.ndarray):\n",
    "    return list(zip(np.where(octopus_grid > 9)[0], np.where(octopus_grid > 9)[1]))"
   ]
  },
  {
   "cell_type": "code",
   "execution_count": 95,
   "metadata": {},
   "outputs": [],
   "source": [
    "def find_adjacent_coordinates(coord: tuple[int, int], sublist = []):\n",
    "    if not coord:\n",
    "        yield sublist\n",
    "    else:\n",
    "        yield from [idx for j in range(coord[0] - 1, coord[0] + 2)\n",
    "                    for idx in find_adjacent_coordinates(coord[1:], sublist + [j])]"
   ]
  },
  {
   "cell_type": "code",
   "execution_count": 96,
   "metadata": {},
   "outputs": [],
   "source": [
    "def find_valid_adjacent_octopi(coord: tuple[int, int], max_row_index: int, max_column_index: int):\n",
    "    adjacent_coords = list(find_adjacent_coordinates(coord))\n",
    "    valid_coords = [(row, column) for row, column in adjacent_coords if 0 <= row <= max_row_index and 0 <= column <= max_column_index]\n",
    "    valid_coords.remove(coord)\n",
    "    return valid_coords"
   ]
  },
  {
   "cell_type": "code",
   "execution_count": 97,
   "metadata": {},
   "outputs": [],
   "source": [
    "def increase_octopus_by_one(octupus_grid: np.ndarray, update_coord: tuple[int, int]):\n",
    "    octupus_grid[update_coord] += 1"
   ]
  },
  {
   "cell_type": "code",
   "execution_count": 98,
   "metadata": {},
   "outputs": [],
   "source": [
    "def set_octopus_to_zero(octopus_grid: np.ndarray, coord: tuple[int,int]):\n",
    "    octopus_grid[coord] = 0"
   ]
  },
  {
   "cell_type": "code",
   "execution_count": 99,
   "metadata": {},
   "outputs": [],
   "source": [
    "def simulate_one_step(octopus_grid_original: np.ndarray):\n",
    "    octopus_grid = copy.deepcopy(octopus_grid_original)\n",
    "    max_row_index = octopus_grid.shape[0] - 1\n",
    "    max_column_index = octopus_grid.shape[1] - 1\n",
    "    increase_all_energy_by_one(octopus_grid)\n",
    "    all_flashed_octopi = []\n",
    "    while np.any(octopus_grid > 9):   \n",
    "        flashed_octopi = []\n",
    "        for flashed_octopus in find_octopi_where_energy_over_nine(octopus_grid):\n",
    "            set_octopus_to_zero(octopus_grid, flashed_octopus)\n",
    "            flashed_octopi.append(flashed_octopus)\n",
    "        all_flashed_octopi.extend(flashed_octopi)\n",
    "        for octopus in flashed_octopi:\n",
    "            for adjacent_octopus in find_valid_adjacent_octopi(octopus, max_row_index, max_column_index):\n",
    "                if octopus_grid[adjacent_octopus] != 0:\n",
    "                    increase_octopus_by_one(octopus_grid, adjacent_octopus)\n",
    "    return octopus_grid, len(all_flashed_octopi), all_flashed_octopi"
   ]
  },
  {
   "cell_type": "code",
   "execution_count": 100,
   "metadata": {},
   "outputs": [],
   "source": [
    "def simulate_n_steps(input_file: str, steps: int) -> int:\n",
    "    octopus_grid = parse_input(input_file)\n",
    "    n = 0\n",
    "    total_flashed = 0\n",
    "    while n < steps:\n",
    "        octopus_grid, flashed, _ = simulate_one_step(octopus_grid)\n",
    "        total_flashed += flashed\n",
    "        n += 1\n",
    "    return total_flashed"
   ]
  },
  {
   "cell_type": "code",
   "execution_count": 101,
   "metadata": {},
   "outputs": [
    {
     "data": {
      "text/plain": [
       "1656"
      ]
     },
     "execution_count": 101,
     "metadata": {},
     "output_type": "execute_result"
    }
   ],
   "source": [
    "simulate_n_steps('practise_input.txt', 100)"
   ]
  },
  {
   "cell_type": "code",
   "execution_count": 102,
   "metadata": {},
   "outputs": [
    {
     "data": {
      "text/plain": [
       "1594"
      ]
     },
     "execution_count": 102,
     "metadata": {},
     "output_type": "execute_result"
    }
   ],
   "source": [
    "simulate_n_steps('real_input.txt', 100)"
   ]
  },
  {
   "cell_type": "markdown",
   "metadata": {},
   "source": [
    "Part 2"
   ]
  },
  {
   "cell_type": "code",
   "execution_count": 103,
   "metadata": {},
   "outputs": [],
   "source": [
    "def find_first_synchronised_flash(input_file: str, upper_bound: int) -> int:\n",
    "    octopus_grid = parse_input(input_file)\n",
    "    grid_size = octopus_grid.shape[0] * octopus_grid.shape[1]\n",
    "    n = 0\n",
    "    while n < upper_bound:\n",
    "        octopus_grid, _, flashed_octupi = simulate_one_step(octopus_grid)\n",
    "        n += 1\n",
    "        if len(set(flashed_octupi)) == grid_size:\n",
    "            return n \n",
    "    return 'synchro not found'\n"
   ]
  },
  {
   "cell_type": "code",
   "execution_count": 104,
   "metadata": {},
   "outputs": [
    {
     "data": {
      "text/plain": [
       "195"
      ]
     },
     "execution_count": 104,
     "metadata": {},
     "output_type": "execute_result"
    }
   ],
   "source": [
    "find_first_synchronised_flash('practise_input.txt', 200)"
   ]
  },
  {
   "cell_type": "code",
   "execution_count": 106,
   "metadata": {},
   "outputs": [
    {
     "data": {
      "text/plain": [
       "437"
      ]
     },
     "execution_count": 106,
     "metadata": {},
     "output_type": "execute_result"
    }
   ],
   "source": [
    "find_first_synchronised_flash('real_input.txt', 500)"
   ]
  }
 ],
 "metadata": {
  "kernelspec": {
   "display_name": "AoC21",
   "language": "python",
   "name": "python3"
  },
  "language_info": {
   "codemirror_mode": {
    "name": "ipython",
    "version": 3
   },
   "file_extension": ".py",
   "mimetype": "text/x-python",
   "name": "python",
   "nbconvert_exporter": "python",
   "pygments_lexer": "ipython3",
   "version": "3.12.1"
  }
 },
 "nbformat": 4,
 "nbformat_minor": 2
}
