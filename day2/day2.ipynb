{
 "cells": [
  {
   "cell_type": "markdown",
   "metadata": {},
   "source": [
    "##### Part 1"
   ]
  },
  {
   "cell_type": "code",
   "execution_count": 6,
   "metadata": {},
   "outputs": [],
   "source": [
    "def parse_input(input_file: str) -> list[tuple[str,int]]:\n",
    "    with open(input_file) as movement_instructions_file:\n",
    "        movement_instructions = []\n",
    "        for instruction in movement_instructions_file.readlines():\n",
    "            movement_instructions.append((instruction.strip().split()[0], int(instruction.strip().split()[1])))\n",
    "    return movement_instructions"
   ]
  },
  {
   "cell_type": "code",
   "execution_count": 10,
   "metadata": {},
   "outputs": [],
   "source": [
    "def move_submarine(input_file: str) -> int:\n",
    "    movement_instructions = parse_input(input_file)\n",
    "    horizontal_position = 0\n",
    "    depth = 0\n",
    "    for instruction in movement_instructions:\n",
    "        if instruction[0] == 'forward':\n",
    "            horizontal_position += instruction[1]\n",
    "        if instruction[0] == 'down':\n",
    "            depth += instruction[1]\n",
    "        if instruction[0] == 'up':\n",
    "            depth -= instruction[1]\n",
    "    return depth*horizontal_position\n"
   ]
  },
  {
   "cell_type": "code",
   "execution_count": 12,
   "metadata": {},
   "outputs": [
    {
     "data": {
      "text/plain": [
       "150"
      ]
     },
     "execution_count": 12,
     "metadata": {},
     "output_type": "execute_result"
    }
   ],
   "source": [
    "move_submarine('practise_input.txt')"
   ]
  },
  {
   "cell_type": "code",
   "execution_count": 13,
   "metadata": {},
   "outputs": [
    {
     "data": {
      "text/plain": [
       "1580000"
      ]
     },
     "execution_count": 13,
     "metadata": {},
     "output_type": "execute_result"
    }
   ],
   "source": [
    "move_submarine('real_input.txt')"
   ]
  },
  {
   "cell_type": "markdown",
   "metadata": {},
   "source": [
    "##### Part 2"
   ]
  },
  {
   "cell_type": "code",
   "execution_count": 14,
   "metadata": {},
   "outputs": [],
   "source": [
    "def move_submarine_2(input_file: str) -> int:\n",
    "    movement_instructions = parse_input(input_file)\n",
    "    horizontal_position = 0\n",
    "    depth = 0\n",
    "    aim = 0\n",
    "    for instruction in movement_instructions:\n",
    "        if instruction[0] == 'forward':\n",
    "            horizontal_position += instruction[1]\n",
    "            depth += aim*instruction[1]\n",
    "        if instruction[0] == 'down':\n",
    "            aim += instruction[1]\n",
    "        if instruction[0] == 'up':\n",
    "            aim -= instruction[1]\n",
    "    return depth*horizontal_position"
   ]
  },
  {
   "cell_type": "code",
   "execution_count": 15,
   "metadata": {},
   "outputs": [
    {
     "data": {
      "text/plain": [
       "900"
      ]
     },
     "execution_count": 15,
     "metadata": {},
     "output_type": "execute_result"
    }
   ],
   "source": [
    "move_submarine_2('practise_input.txt')"
   ]
  },
  {
   "cell_type": "code",
   "execution_count": 16,
   "metadata": {},
   "outputs": [
    {
     "data": {
      "text/plain": [
       "1251263225"
      ]
     },
     "execution_count": 16,
     "metadata": {},
     "output_type": "execute_result"
    }
   ],
   "source": [
    "move_submarine_2('real_input.txt')"
   ]
  }
 ],
 "metadata": {
  "kernelspec": {
   "display_name": "AoC21",
   "language": "python",
   "name": "python3"
  },
  "language_info": {
   "codemirror_mode": {
    "name": "ipython",
    "version": 3
   },
   "file_extension": ".py",
   "mimetype": "text/x-python",
   "name": "python",
   "nbconvert_exporter": "python",
   "pygments_lexer": "ipython3",
   "version": "3.12.1"
  }
 },
 "nbformat": 4,
 "nbformat_minor": 2
}
