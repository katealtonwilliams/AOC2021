{
 "cells": [
  {
   "cell_type": "markdown",
   "metadata": {},
   "source": [
    "Part 1:"
   ]
  },
  {
   "cell_type": "markdown",
   "metadata": {},
   "source": [
    "NOTE: CHECK TYPING, TRY TO SIMPLIFY/REFACTOR"
   ]
  },
  {
   "cell_type": "code",
   "execution_count": 295,
   "metadata": {},
   "outputs": [],
   "source": [
    "import numpy as np\n",
    "from typing import Callable"
   ]
  },
  {
   "cell_type": "code",
   "execution_count": 296,
   "metadata": {},
   "outputs": [],
   "source": [
    "def parse_input(input_file: str) -> np.ndarray:\n",
    "    with open(input_file) as height_map:\n",
    "        return np.array([list(map(int, [*line.strip()])) \n",
    "                            for line in height_map.readlines()])"
   ]
  },
  {
   "cell_type": "code",
   "execution_count": 297,
   "metadata": {},
   "outputs": [],
   "source": [
    "def height_from_coords_func(height_map: np.ndarray) -> Callable:\n",
    "    def height_map_defined(coords: tuple[int, int]):\n",
    "        return height_map[coords]\n",
    "    return height_map_defined"
   ]
  },
  {
   "cell_type": "code",
   "execution_count": 298,
   "metadata": {},
   "outputs": [],
   "source": [
    "def find_surrounding_heights_and_coords(height_map: np.ndarray, coordinates: tuple[int, int]) -> tuple[list[tuple[int, int]], list[int]]:\n",
    "    row = coordinates[0]\n",
    "    column = coordinates[1]\n",
    "    max_row = height_map.shape[0] - 1\n",
    "    max_column = height_map.shape[1] - 1\n",
    "    height_from_coords = height_from_coords_func(height_map)\n",
    "    surrounding_coords = []\n",
    "    if column - 1 >= 0:\n",
    "        surrounding_coords.append((row, column-1))\n",
    "    if column + 1 <= max_column:\n",
    "        surrounding_coords.append((row, column+1))\n",
    "    if row - 1 >= 0:\n",
    "        surrounding_coords.append((row-1, column))\n",
    "    if row + 1 <= max_row:\n",
    "        surrounding_coords.append((row+1, column))\n",
    "    return surrounding_coords, sorted(list(map(height_from_coords, surrounding_coords)))"
   ]
  },
  {
   "cell_type": "code",
   "execution_count": 299,
   "metadata": {},
   "outputs": [],
   "source": [
    "def find_and_sum_low_points(input_file: str) -> int:\n",
    "    height_map = parse_input(input_file)\n",
    "    total = 0\n",
    "    coordinates_of_low_points = []\n",
    "    for row, line in enumerate(height_map):\n",
    "        for column, height in enumerate(line):\n",
    "            _, surrounding_heights = find_surrounding_heights_and_coords(height_map, (row, column))\n",
    "            if height == 9:\n",
    "                continue\n",
    "            elif surrounding_heights[0] > height:\n",
    "                total += height + 1\n",
    "                coordinates_of_low_points.append((row, column))\n",
    "    return total, coordinates_of_low_points"
   ]
  },
  {
   "cell_type": "code",
   "execution_count": 300,
   "metadata": {},
   "outputs": [
    {
     "data": {
      "text/plain": [
       "(15, [(0, 1), (0, 9), (2, 2), (4, 6)])"
      ]
     },
     "execution_count": 300,
     "metadata": {},
     "output_type": "execute_result"
    }
   ],
   "source": [
    "find_and_sum_low_points('practise_input.txt')"
   ]
  },
  {
   "cell_type": "code",
   "execution_count": 301,
   "metadata": {},
   "outputs": [
    {
     "data": {
      "text/plain": [
       "(537,\n",
       " [(0, 16),\n",
       "  (0, 96),\n",
       "  (1, 23),\n",
       "  (1, 44),\n",
       "  (2, 3),\n",
       "  (2, 33),\n",
       "  (2, 71),\n",
       "  (2, 92),\n",
       "  (3, 56),\n",
       "  (3, 81),\n",
       "  (4, 63),\n",
       "  (5, 7),\n",
       "  (5, 18),\n",
       "  (5, 23),\n",
       "  (6, 74),\n",
       "  (6, 98),\n",
       "  (7, 39),\n",
       "  (8, 0),\n",
       "  (8, 35),\n",
       "  (8, 45),\n",
       "  (8, 70),\n",
       "  (9, 10),\n",
       "  (9, 59),\n",
       "  (9, 92),\n",
       "  (10, 28),\n",
       "  (10, 74),\n",
       "  (11, 34),\n",
       "  (11, 90),\n",
       "  (12, 81),\n",
       "  (12, 98),\n",
       "  (13, 5),\n",
       "  (13, 22),\n",
       "  (13, 53),\n",
       "  (14, 45),\n",
       "  (14, 64),\n",
       "  (16, 15),\n",
       "  (16, 19),\n",
       "  (16, 74),\n",
       "  (17, 58),\n",
       "  (17, 97),\n",
       "  (18, 6),\n",
       "  (18, 39),\n",
       "  (18, 46),\n",
       "  (18, 89),\n",
       "  (19, 29),\n",
       "  (19, 60),\n",
       "  (20, 1),\n",
       "  (20, 20),\n",
       "  (20, 53),\n",
       "  (21, 18),\n",
       "  (22, 79),\n",
       "  (23, 4),\n",
       "  (23, 65),\n",
       "  (23, 70),\n",
       "  (24, 22),\n",
       "  (24, 49),\n",
       "  (24, 54),\n",
       "  (25, 13),\n",
       "  (25, 33),\n",
       "  (25, 59),\n",
       "  (25, 93),\n",
       "  (26, 40),\n",
       "  (26, 66),\n",
       "  (26, 74),\n",
       "  (27, 87),\n",
       "  (27, 99),\n",
       "  (28, 2),\n",
       "  (29, 28),\n",
       "  (29, 35),\n",
       "  (29, 47),\n",
       "  (29, 71),\n",
       "  (30, 44),\n",
       "  (30, 83),\n",
       "  (31, 9),\n",
       "  (31, 74),\n",
       "  (31, 92),\n",
       "  (32, 18),\n",
       "  (33, 39),\n",
       "  (33, 52),\n",
       "  (34, 99),\n",
       "  (35, 0),\n",
       "  (35, 12),\n",
       "  (35, 29),\n",
       "  (35, 44),\n",
       "  (35, 66),\n",
       "  (35, 85),\n",
       "  (36, 7),\n",
       "  (36, 38),\n",
       "  (36, 59),\n",
       "  (37, 19),\n",
       "  (37, 79),\n",
       "  (38, 97),\n",
       "  (40, 4),\n",
       "  (40, 14),\n",
       "  (40, 27),\n",
       "  (41, 33),\n",
       "  (41, 39),\n",
       "  (41, 72),\n",
       "  (41, 88),\n",
       "  (43, 8),\n",
       "  (43, 47),\n",
       "  (43, 56),\n",
       "  (43, 63),\n",
       "  (43, 67),\n",
       "  (44, 15),\n",
       "  (44, 83),\n",
       "  (45, 37),\n",
       "  (46, 0),\n",
       "  (46, 24),\n",
       "  (46, 42),\n",
       "  (47, 98),\n",
       "  (48, 34),\n",
       "  (48, 47),\n",
       "  (48, 53),\n",
       "  (49, 76),\n",
       "  (50, 8),\n",
       "  (50, 58),\n",
       "  (50, 86),\n",
       "  (50, 91),\n",
       "  (51, 15),\n",
       "  (51, 19),\n",
       "  (51, 64),\n",
       "  (52, 29),\n",
       "  (52, 36),\n",
       "  (52, 52),\n",
       "  (53, 42),\n",
       "  (53, 82),\n",
       "  (54, 95),\n",
       "  (56, 4),\n",
       "  (56, 18),\n",
       "  (56, 22),\n",
       "  (56, 37),\n",
       "  (57, 80),\n",
       "  (58, 13),\n",
       "  (58, 63),\n",
       "  (58, 87),\n",
       "  (58, 99),\n",
       "  (59, 30),\n",
       "  (59, 41),\n",
       "  (59, 56),\n",
       "  (60, 47),\n",
       "  (60, 71),\n",
       "  (61, 20),\n",
       "  (61, 82),\n",
       "  (61, 93),\n",
       "  (62, 4),\n",
       "  (62, 16),\n",
       "  (62, 35),\n",
       "  (63, 48),\n",
       "  (64, 23),\n",
       "  (64, 39),\n",
       "  (64, 78),\n",
       "  (65, 9),\n",
       "  (65, 31),\n",
       "  (65, 60),\n",
       "  (66, 87),\n",
       "  (67, 2),\n",
       "  (67, 14),\n",
       "  (67, 73),\n",
       "  (68, 66),\n",
       "  (68, 97),\n",
       "  (69, 37),\n",
       "  (69, 52),\n",
       "  (70, 30),\n",
       "  (71, 17),\n",
       "  (71, 24),\n",
       "  (72, 81),\n",
       "  (72, 92),\n",
       "  (73, 9),\n",
       "  (73, 59),\n",
       "  (73, 67),\n",
       "  (73, 71),\n",
       "  (73, 96),\n",
       "  (74, 0),\n",
       "  (74, 43),\n",
       "  (76, 31),\n",
       "  (76, 51),\n",
       "  (77, 21),\n",
       "  (77, 65),\n",
       "  (77, 97),\n",
       "  (78, 86),\n",
       "  (79, 16),\n",
       "  (79, 39),\n",
       "  (79, 59),\n",
       "  (80, 79),\n",
       "  (81, 0),\n",
       "  (81, 8),\n",
       "  (81, 41),\n",
       "  (82, 74),\n",
       "  (82, 93),\n",
       "  (83, 47),\n",
       "  (84, 33),\n",
       "  (84, 68),\n",
       "  (84, 82),\n",
       "  (85, 27),\n",
       "  (85, 63),\n",
       "  (86, 6),\n",
       "  (86, 14),\n",
       "  (86, 58),\n",
       "  (86, 99),\n",
       "  (88, 41),\n",
       "  (88, 51),\n",
       "  (88, 79),\n",
       "  (89, 23),\n",
       "  (89, 72),\n",
       "  (90, 65),\n",
       "  (91, 32),\n",
       "  (91, 82),\n",
       "  (91, 93),\n",
       "  (92, 4),\n",
       "  (92, 99),\n",
       "  (93, 13),\n",
       "  (93, 46),\n",
       "  (94, 34),\n",
       "  (95, 18),\n",
       "  (95, 26),\n",
       "  (96, 53),\n",
       "  (96, 61),\n",
       "  (96, 80),\n",
       "  (97, 1),\n",
       "  (97, 64),\n",
       "  (97, 88),\n",
       "  (98, 10),\n",
       "  (98, 31),\n",
       "  (98, 40),\n",
       "  (98, 74),\n",
       "  (98, 95),\n",
       "  (99, 78)])"
      ]
     },
     "execution_count": 301,
     "metadata": {},
     "output_type": "execute_result"
    }
   ],
   "source": [
    "find_and_sum_low_points('real_input.txt')"
   ]
  },
  {
   "cell_type": "markdown",
   "metadata": {},
   "source": [
    "Part 2:"
   ]
  },
  {
   "cell_type": "code",
   "execution_count": 302,
   "metadata": {},
   "outputs": [],
   "source": [
    "def find_basin_from_low_point(height_map: np.ndarray, coordinates: tuple[int, int]) -> int:\n",
    "    basin_coordinates = [coordinates]\n",
    "    current_index = 0\n",
    "    while current_index < len(basin_coordinates):\n",
    "        current_coords = basin_coordinates[current_index]\n",
    "        current_height = height_map[current_coords]\n",
    "        heights_coords_to_check = (set((find_surrounding_heights_and_coords(height_map, \n",
    "                                    current_coords)[0]))\n",
    "                                    - set(basin_coordinates))\n",
    "        \n",
    "        for height_coord in heights_coords_to_check:\n",
    "            height_to_check = height_map[height_coord]\n",
    "            if height_to_check == 9:\n",
    "                continue\n",
    "            elif current_height < height_to_check:\n",
    "                basin_coordinates.append(height_coord)\n",
    "        current_index += 1\n",
    "    return len(basin_coordinates)\n"
   ]
  },
  {
   "cell_type": "code",
   "execution_count": 303,
   "metadata": {},
   "outputs": [],
   "source": [
    "def find_largest_basins(input_file: str) -> int:\n",
    "    height_map = parse_input(input_file)\n",
    "    low_point_coords = find_and_sum_low_points(input_file)[1]\n",
    "    basin_lengths = []\n",
    "    for coord in low_point_coords:\n",
    "        basin_lengths.append(find_basin_from_low_point(height_map, coord))\n",
    "    basin_lengths = sorted(basin_lengths, reverse=True)\n",
    "    return basin_lengths[0] * basin_lengths[1] * basin_lengths[2]"
   ]
  },
  {
   "cell_type": "code",
   "execution_count": 304,
   "metadata": {},
   "outputs": [
    {
     "data": {
      "text/plain": [
       "1134"
      ]
     },
     "execution_count": 304,
     "metadata": {},
     "output_type": "execute_result"
    }
   ],
   "source": [
    "find_largest_basins('practise_input.txt')"
   ]
  },
  {
   "cell_type": "code",
   "execution_count": 305,
   "metadata": {},
   "outputs": [
    {
     "data": {
      "text/plain": [
       "1142757"
      ]
     },
     "execution_count": 305,
     "metadata": {},
     "output_type": "execute_result"
    }
   ],
   "source": [
    "find_largest_basins('real_input.txt')"
   ]
  }
 ],
 "metadata": {
  "kernelspec": {
   "display_name": "AoC21",
   "language": "python",
   "name": "python3"
  },
  "language_info": {
   "codemirror_mode": {
    "name": "ipython",
    "version": 3
   },
   "file_extension": ".py",
   "mimetype": "text/x-python",
   "name": "python",
   "nbconvert_exporter": "python",
   "pygments_lexer": "ipython3",
   "version": "3.12.1"
  }
 },
 "nbformat": 4,
 "nbformat_minor": 2
}
