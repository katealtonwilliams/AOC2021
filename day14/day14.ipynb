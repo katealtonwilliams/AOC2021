{
 "cells": [
  {
   "cell_type": "code",
   "execution_count": 224,
   "metadata": {},
   "outputs": [],
   "source": [
    "from collections import Counter"
   ]
  },
  {
   "cell_type": "code",
   "execution_count": 225,
   "metadata": {},
   "outputs": [],
   "source": [
    "def parse_input(input_file: str) -> tuple[str, dict]:\n",
    "    with open(input_file) as template_and_insertion_rules:\n",
    "        template_and_insertion_rules = template_and_insertion_rules.readlines()\n",
    "    template = template_and_insertion_rules[0].strip()\n",
    "    insertion_rules = {rule.strip().split(' -> ')[0]:rule.strip().split(' -> ')[1] for rule in template_and_insertion_rules[2:]}\n",
    "    return template, insertion_rules"
   ]
  },
  {
   "cell_type": "code",
   "execution_count": 226,
   "metadata": {},
   "outputs": [],
   "source": [
    "def run_one_step(template: str, insertion_rules: dict[str, str]) -> str:\n",
    "    updated_string = ''\n",
    "    for i in range(len(template)-1):\n",
    "        test_string = template[i:i+2]\n",
    "        updated_string += template[i]\n",
    "        if (test_string == n for n in insertion_rules.keys()):\n",
    "            updated_string += insertion_rules[test_string]\n",
    "    updated_string += template[-1]\n",
    "    return updated_string"
   ]
  },
  {
   "cell_type": "code",
   "execution_count": 227,
   "metadata": {},
   "outputs": [],
   "source": [
    "def run_n_steps(input_file: str, steps: int) -> int:\n",
    "    template, insertion_rules = parse_input(input_file)\n",
    "    current_step = 0\n",
    "    while current_step < steps:\n",
    "        template = run_one_step(template, insertion_rules)\n",
    "        current_step += 1\n",
    "    letter_counts = Counter(template).values()\n",
    "    return max(letter_counts) - min(letter_counts)"
   ]
  },
  {
   "cell_type": "code",
   "execution_count": 228,
   "metadata": {},
   "outputs": [
    {
     "data": {
      "text/plain": [
       "1588"
      ]
     },
     "execution_count": 228,
     "metadata": {},
     "output_type": "execute_result"
    }
   ],
   "source": [
    "run_n_steps('practise_input.txt', 10)"
   ]
  },
  {
   "cell_type": "code",
   "execution_count": 229,
   "metadata": {},
   "outputs": [
    {
     "data": {
      "text/plain": [
       "2797"
      ]
     },
     "execution_count": 229,
     "metadata": {},
     "output_type": "execute_result"
    }
   ],
   "source": [
    "run_n_steps('real_input.txt', 10)"
   ]
  },
  {
   "cell_type": "markdown",
   "metadata": {},
   "source": [
    "Part 2"
   ]
  },
  {
   "cell_type": "code",
   "execution_count": 230,
   "metadata": {},
   "outputs": [],
   "source": [
    "def create_initial_pair_count(template: str, insertion_rules: dict[str:str])-> dict[str:int]:\n",
    "    return {pair:template.count(pair) for pair in insertion_rules.keys()}"
   ]
  },
  {
   "cell_type": "code",
   "execution_count": 231,
   "metadata": {},
   "outputs": [],
   "source": [
    "def create_increase_map(insertion_rules: dict[str:str]) -> dict[str:tuple]:\n",
    "    return {key:((key[0] + value), (value + key[1])) for key, value in insertion_rules.items()}"
   ]
  },
  {
   "cell_type": "code",
   "execution_count": 232,
   "metadata": {},
   "outputs": [],
   "source": [
    "def run_one_step_efficient(pair_count: dict[str, str], increase_map: dict[str:tuple]) -> dict[str:str]:\n",
    "    updated_pair_count = {pair:0 for pair in increase_map.keys()}\n",
    "    for pair, count in pair_count.items():\n",
    "        for mapped_to in increase_map[pair]:\n",
    "            updated_pair_count[mapped_to] += count\n",
    "    return updated_pair_count"
   ]
  },
  {
   "cell_type": "code",
   "execution_count": 233,
   "metadata": {},
   "outputs": [],
   "source": [
    "def count_letters_from_pair_count(pair_count: dict[str, str], template: str) -> dict[str:int]:\n",
    "    all_letters = {letter for pair in pair_count.keys() for letter in pair}\n",
    "    letter_counts = {letter:0 for letter in all_letters}\n",
    "    start_and_end_letter = (template[0], template[-1])\n",
    "    for letter in letter_counts.keys():\n",
    "        for pair, count in pair_count.items():\n",
    "            letter_counts[letter] += pair.count(letter)*count\n",
    "        if letter in start_and_end_letter:\n",
    "            letter_counts[letter] = (letter_counts[letter] - 1)/2 + 1\n",
    "        else: \n",
    "            letter_counts[letter] = letter_counts[letter]/2\n",
    "    return letter_counts.values()"
   ]
  },
  {
   "cell_type": "code",
   "execution_count": 234,
   "metadata": {},
   "outputs": [],
   "source": [
    "def run_n_steps_efficient(input_file: str, steps: int) -> int:\n",
    "    template, insertion_rules = parse_input(input_file)\n",
    "    pair_count = create_initial_pair_count(template, insertion_rules)\n",
    "    increase_map = create_increase_map(insertion_rules)\n",
    "    current_step = 0\n",
    "    while current_step < steps:\n",
    "        pair_count = run_one_step_efficient(pair_count, increase_map)\n",
    "        current_step += 1\n",
    "    letter_counts = count_letters_from_pair_count(pair_count, template)\n",
    "    return int(max(letter_counts) - min(letter_counts))"
   ]
  },
  {
   "cell_type": "code",
   "execution_count": 235,
   "metadata": {},
   "outputs": [
    {
     "data": {
      "text/plain": [
       "2188189693529"
      ]
     },
     "execution_count": 235,
     "metadata": {},
     "output_type": "execute_result"
    }
   ],
   "source": [
    "run_n_steps_efficient('practise_input.txt', 40)"
   ]
  },
  {
   "cell_type": "code",
   "execution_count": 236,
   "metadata": {},
   "outputs": [
    {
     "data": {
      "text/plain": [
       "2926813379532"
      ]
     },
     "execution_count": 236,
     "metadata": {},
     "output_type": "execute_result"
    }
   ],
   "source": [
    "run_n_steps_efficient('real_input.txt', 40)"
   ]
  }
 ],
 "metadata": {
  "kernelspec": {
   "display_name": "AoC21",
   "language": "python",
   "name": "python3"
  },
  "language_info": {
   "codemirror_mode": {
    "name": "ipython",
    "version": 3
   },
   "file_extension": ".py",
   "mimetype": "text/x-python",
   "name": "python",
   "nbconvert_exporter": "python",
   "pygments_lexer": "ipython3",
   "version": "3.12.1"
  }
 },
 "nbformat": 4,
 "nbformat_minor": 2
}
