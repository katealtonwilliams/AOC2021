{
 "cells": [
  {
   "cell_type": "markdown",
   "metadata": {},
   "source": [
    "Part 1"
   ]
  },
  {
   "cell_type": "code",
   "execution_count": 182,
   "metadata": {},
   "outputs": [],
   "source": [
    "import copy"
   ]
  },
  {
   "cell_type": "code",
   "execution_count": 183,
   "metadata": {},
   "outputs": [],
   "source": [
    "def parse_input(input_file: str) -> list[str]:\n",
    "    with open(input_file) as navigation_subsystem:\n",
    "        return [line.strip() for line in navigation_subsystem.readlines()]"
   ]
  },
  {
   "cell_type": "code",
   "execution_count": 184,
   "metadata": {},
   "outputs": [],
   "source": [
    "all_bracket_pairs = ['()', '{}', '[]', '<>']\n",
    "bracket_to_points = {')':3, ']':57, '}': 1197, '>': 25137}"
   ]
  },
  {
   "cell_type": "code",
   "execution_count": 185,
   "metadata": {},
   "outputs": [],
   "source": [
    "def strip_complete_brackets(row: str, all_bracket_pairs: list[str]) -> list[str]:\n",
    "    stripped_row = copy.deepcopy(row)\n",
    "    while any(bracket_pair in stripped_row for bracket_pair in all_bracket_pairs):\n",
    "        for bracket_pair in all_bracket_pairs:\n",
    "            stripped_row = stripped_row.replace(bracket_pair, '')\n",
    "    return stripped_row"
   ]
  },
  {
   "cell_type": "code",
   "execution_count": 186,
   "metadata": {},
   "outputs": [],
   "source": [
    "def check_row_and_return_illegal_character(row: str, all_bracket_pairs: list[str])-> str | None:\n",
    "    check_row = strip_complete_brackets(row, all_bracket_pairs)\n",
    "    closed_brackets = [bracket[1] for bracket in all_bracket_pairs]\n",
    "    for bracket in check_row:\n",
    "        if bracket in closed_brackets:\n",
    "            return bracket"
   ]
  },
  {
   "cell_type": "code",
   "execution_count": 187,
   "metadata": {},
   "outputs": [],
   "source": [
    "def calculate_total(input_file: str, all_bracket_pairs: list[str], bracket_to_points: dict[str:int]) -> int:\n",
    "    navigation_subsystem = parse_input(input_file)\n",
    "    illegal_characters = []\n",
    "    total = 0\n",
    "    for row in navigation_subsystem:\n",
    "        if (illegal_character := check_row_and_return_illegal_character(row, all_bracket_pairs)) is not None:\n",
    "            illegal_characters.append(illegal_character)\n",
    "    for character in illegal_characters:\n",
    "        total += bracket_to_points[character]\n",
    "    return total"
   ]
  },
  {
   "cell_type": "code",
   "execution_count": 188,
   "metadata": {},
   "outputs": [
    {
     "data": {
      "text/plain": [
       "26397"
      ]
     },
     "execution_count": 188,
     "metadata": {},
     "output_type": "execute_result"
    }
   ],
   "source": [
    "calculate_total('practise_input.txt', all_bracket_pairs, bracket_to_points)"
   ]
  },
  {
   "cell_type": "code",
   "execution_count": 189,
   "metadata": {},
   "outputs": [
    {
     "data": {
      "text/plain": [
       "358737"
      ]
     },
     "execution_count": 189,
     "metadata": {},
     "output_type": "execute_result"
    }
   ],
   "source": [
    "calculate_total('real_input.txt', all_bracket_pairs, bracket_to_points)"
   ]
  },
  {
   "cell_type": "markdown",
   "metadata": {},
   "source": [
    "Part 2"
   ]
  },
  {
   "cell_type": "code",
   "execution_count": 190,
   "metadata": {},
   "outputs": [],
   "source": [
    "import statistics"
   ]
  },
  {
   "cell_type": "code",
   "execution_count": 191,
   "metadata": {},
   "outputs": [],
   "source": [
    "bracket_to_points_2 = {')': 1, ']': 2, '}': 3, '>': 4}"
   ]
  },
  {
   "cell_type": "code",
   "execution_count": 192,
   "metadata": {},
   "outputs": [],
   "source": [
    "def find_ending_characters(row: str, all_bracket_pairs: list[str]):\n",
    "    unfinished_pairs = strip_complete_brackets(row, all_bracket_pairs)\n",
    "    open_to_closed = {bracket[0]:bracket[1] for bracket in all_bracket_pairs}\n",
    "    closed_brackets = []\n",
    "    for open_bracket in unfinished_pairs[::-1]:\n",
    "        closed_brackets.append(open_to_closed[open_bracket])\n",
    "    return closed_brackets"
   ]
  },
  {
   "cell_type": "code",
   "execution_count": 193,
   "metadata": {},
   "outputs": [],
   "source": [
    "def calculate_total_from_closed_brackets(closed_brackets: list[str], bracket_to_points_2: dict[str:int]) -> int:\n",
    "    total = 0\n",
    "    for bracket in closed_brackets:\n",
    "        total *= 5\n",
    "        total += bracket_to_points_2[bracket]\n",
    "    return total"
   ]
  },
  {
   "cell_type": "code",
   "execution_count": 194,
   "metadata": {},
   "outputs": [],
   "source": [
    "def find_answer_part_2(input_file: str, all_bracket_pairs: list[str], bracket_to_points_2: dict[str:int]) -> int:\n",
    "    navigation_subsystem = parse_input(input_file)\n",
    "    incomplete_rows = [row for row in navigation_subsystem if check_row_and_return_illegal_character(row, all_bracket_pairs) is None]\n",
    "    incomplete_row_scores = []\n",
    "    for row in incomplete_rows:\n",
    "        completing_brackets = find_ending_characters(row, all_bracket_pairs)\n",
    "        incomplete_row_scores.append(calculate_total_from_closed_brackets(completing_brackets, bracket_to_points_2))\n",
    "    return statistics.median(incomplete_row_scores)"
   ]
  },
  {
   "cell_type": "code",
   "execution_count": 195,
   "metadata": {},
   "outputs": [
    {
     "data": {
      "text/plain": [
       "288957"
      ]
     },
     "execution_count": 195,
     "metadata": {},
     "output_type": "execute_result"
    }
   ],
   "source": [
    "find_answer_part_2('practise_input.txt', all_bracket_pairs, bracket_to_points_2)"
   ]
  },
  {
   "cell_type": "code",
   "execution_count": 196,
   "metadata": {},
   "outputs": [
    {
     "data": {
      "text/plain": [
       "4329504793"
      ]
     },
     "execution_count": 196,
     "metadata": {},
     "output_type": "execute_result"
    }
   ],
   "source": [
    "find_answer_part_2('real_input.txt', all_bracket_pairs, bracket_to_points_2)"
   ]
  }
 ],
 "metadata": {
  "kernelspec": {
   "display_name": "AoC21",
   "language": "python",
   "name": "python3"
  },
  "language_info": {
   "codemirror_mode": {
    "name": "ipython",
    "version": 3
   },
   "file_extension": ".py",
   "mimetype": "text/x-python",
   "name": "python",
   "nbconvert_exporter": "python",
   "pygments_lexer": "ipython3",
   "version": "3.12.1"
  }
 },
 "nbformat": 4,
 "nbformat_minor": 2
}
