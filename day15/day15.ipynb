{
 "cells": [
  {
   "cell_type": "code",
   "execution_count": 233,
   "metadata": {},
   "outputs": [],
   "source": [
    "import numpy as np\n",
    "import heapq\n",
    "import copy\n",
    "from typing import Callable"
   ]
  },
  {
   "cell_type": "code",
   "execution_count": 234,
   "metadata": {},
   "outputs": [],
   "source": [
    "def parse_input(input_file: str) -> np.ndarray:\n",
    "    with open(input_file) as risk_grid:\n",
    "        return np.array([list(map(int, [*line.strip()])) \n",
    "                            for line in risk_grid.readlines()])"
   ]
  },
  {
   "cell_type": "code",
   "execution_count": 235,
   "metadata": {},
   "outputs": [],
   "source": [
    "def sum_tuples(tuple_1: tuple[int], tuple_2: tuple[int]) -> tuple[int]:\n",
    "    return (tuple_1[0] + tuple_2[0], tuple_1[1] + tuple_2[1])"
   ]
  },
  {
   "cell_type": "code",
   "execution_count": 236,
   "metadata": {},
   "outputs": [],
   "source": [
    "def find_adjacent_coordinates(coord: tuple[int, int], max_row_index: int, max_column_index: int) -> list[tuple[int]]:\n",
    "    possible_directions = [(0, i) for i in (-1, 1)] + [(j, 0) for j in (-1, 1)]\n",
    "    directions_and_coords = []\n",
    "    for direction in possible_directions:\n",
    "        new_row, new_column = sum_tuples(coord, direction)\n",
    "        if  0 <= new_row <= max_row_index and 0 <= new_column <= max_column_index:\n",
    "            directions_and_coords.append(((new_row, new_column), direction))\n",
    "    return directions_and_coords"
   ]
  },
  {
   "cell_type": "code",
   "execution_count": 237,
   "metadata": {},
   "outputs": [],
   "source": [
    "def find_risk_level(path: tuple[list, tuple]) -> int:\n",
    "    return path[1]"
   ]
  },
  {
   "cell_type": "code",
   "execution_count": 238,
   "metadata": {},
   "outputs": [],
   "source": [
    "def find_euclidean_distance(point_a: tuple[int], point_b: tuple[int]):\n",
    "    return ((point_a[0] - point_b[0])**2 + (point_a[1] - point_b[1])**2)**0.5"
   ]
  },
  {
   "cell_type": "code",
   "execution_count": 239,
   "metadata": {},
   "outputs": [],
   "source": [
    "#First attempt, takes far too long\n",
    "def find_shortest_risk_level_v1(input_file: str) -> int:\n",
    "    risk_grid = parse_input(input_file)\n",
    "    start_point = (0,0)\n",
    "    end_point = tuple(coord - 1 for coord in risk_grid.shape)\n",
    "    max_row, max_column = end_point\n",
    "    current_paths = [([start_point], 0)]\n",
    "    while current_paths != []:\n",
    "        current_path, current_risk_level = current_paths.pop()\n",
    "        current_coord = current_path[-1]\n",
    "        current_distance = find_euclidean_distance(current_coord, end_point)\n",
    "        if current_coord == end_point:\n",
    "            return current_risk_level\n",
    "        for coord in find_adjacent_coordinates(current_coord, max_row, max_column):\n",
    "            new_distance = find_euclidean_distance(coord, end_point)\n",
    "            if new_distance < current_distance and coord not in current_path:  \n",
    "                new_path = current_path + [coord]\n",
    "                updated_risk_level = current_risk_level + risk_grid[coord]\n",
    "                current_paths.append((new_path, updated_risk_level))\n",
    "        current_paths.sort(key=find_risk_level, reverse=True) "
   ]
  },
  {
   "cell_type": "code",
   "execution_count": 247,
   "metadata": {},
   "outputs": [],
   "source": [
    "#try using heapq and not saving whole list of coords, just where it is, how many steps, direction it got there \n",
    "def find_shortest_risk_level_v2(input_file: str, parse_input_func: Callable) -> int:\n",
    "    \n",
    "    risk_grid = parse_input_func(input_file)\n",
    "    start_point = (0,0)\n",
    "    initial_risk_level = 0\n",
    "    initial_direction = (0,0)\n",
    "    inital_no_steps = 0\n",
    "    end_point = tuple(coord - 1 for coord in risk_grid.shape)\n",
    "    max_row, max_column = end_point\n",
    "    current_paths = [(initial_risk_level, start_point, initial_direction, inital_no_steps)]\n",
    "    heapq.heapify(current_paths)\n",
    "    seen_paths = {(initial_risk_level, start_point, initial_direction, inital_no_steps)}\n",
    "    \n",
    "    while current_paths:\n",
    "        current_risk_level, current_coord, _, current_no_steps = heapq.heappop(current_paths)\n",
    "        if current_coord == end_point:\n",
    "            return current_risk_level\n",
    "        for coord_and_direction in find_adjacent_coordinates(current_coord, max_row, max_column):\n",
    "            new_coord, new_direction = coord_and_direction\n",
    "            if coord_and_direction not in seen_paths:\n",
    "                seen_paths.add(coord_and_direction)  \n",
    "                new_no_steps = current_no_steps + 1\n",
    "                updated_risk_level = current_risk_level + risk_grid[new_coord]\n",
    "                new_path = (updated_risk_level, new_coord, new_direction, new_no_steps)\n",
    "                heapq.heappush(current_paths, new_path)"
   ]
  },
  {
   "cell_type": "code",
   "execution_count": 248,
   "metadata": {},
   "outputs": [
    {
     "data": {
      "text/plain": [
       "40"
      ]
     },
     "execution_count": 248,
     "metadata": {},
     "output_type": "execute_result"
    }
   ],
   "source": [
    "find_shortest_risk_level_v2('practise_input.txt', parse_input)"
   ]
  },
  {
   "cell_type": "code",
   "execution_count": 249,
   "metadata": {},
   "outputs": [
    {
     "data": {
      "text/plain": [
       "626"
      ]
     },
     "execution_count": 249,
     "metadata": {},
     "output_type": "execute_result"
    }
   ],
   "source": [
    "find_shortest_risk_level_v2('real_input.txt', parse_input)"
   ]
  },
  {
   "cell_type": "markdown",
   "metadata": {},
   "source": [
    "Part 2"
   ]
  },
  {
   "cell_type": "code",
   "execution_count": 250,
   "metadata": {},
   "outputs": [],
   "source": [
    "risk_grid = parse_input('practise_input.txt')"
   ]
  },
  {
   "cell_type": "code",
   "execution_count": 251,
   "metadata": {},
   "outputs": [],
   "source": [
    "def parse_input_part_2(input_file: str) -> np.ndarray:\n",
    "    original_grid = parse_input(input_file)\n",
    "    new_grid = copy.deepcopy(original_grid)\n",
    "    final_grid = copy.deepcopy(original_grid)\n",
    "    for i in range(4):\n",
    "        new_grid += 1\n",
    "        new_grid[new_grid==10] = 1\n",
    "        final_grid = np.append(final_grid, new_grid, axis=0)\n",
    "    new_grid = copy.deepcopy(final_grid)\n",
    "    for j in range(4):\n",
    "        new_grid += 1\n",
    "        new_grid[new_grid==10] = 1\n",
    "        final_grid = np.append(final_grid, new_grid, axis=1)\n",
    "    return final_grid\n",
    "        "
   ]
  },
  {
   "cell_type": "code",
   "execution_count": 252,
   "metadata": {},
   "outputs": [
    {
     "data": {
      "text/plain": [
       "315"
      ]
     },
     "execution_count": 252,
     "metadata": {},
     "output_type": "execute_result"
    }
   ],
   "source": [
    "find_shortest_risk_level_v2('practise_input.txt', parse_input_part_2)"
   ]
  },
  {
   "cell_type": "code",
   "execution_count": 253,
   "metadata": {},
   "outputs": [
    {
     "data": {
      "text/plain": [
       "2966"
      ]
     },
     "execution_count": 253,
     "metadata": {},
     "output_type": "execute_result"
    }
   ],
   "source": [
    "find_shortest_risk_level_v2('real_input.txt', parse_input_part_2)"
   ]
  }
 ],
 "metadata": {
  "kernelspec": {
   "display_name": "AoC21",
   "language": "python",
   "name": "python3"
  },
  "language_info": {
   "codemirror_mode": {
    "name": "ipython",
    "version": 3
   },
   "file_extension": ".py",
   "mimetype": "text/x-python",
   "name": "python",
   "nbconvert_exporter": "python",
   "pygments_lexer": "ipython3",
   "version": "3.12.1"
  }
 },
 "nbformat": 4,
 "nbformat_minor": 2
}
