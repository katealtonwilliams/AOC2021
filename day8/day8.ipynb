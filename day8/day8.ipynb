{
 "cells": [
  {
   "cell_type": "markdown",
   "metadata": {},
   "source": [
    "Part 1:"
   ]
  },
  {
   "cell_type": "markdown",
   "metadata": {},
   "source": [
    "Combinations:\n",
    "\n",
    "* 2 segments: **1** (C, F)\n",
    "* 3 segments: **7** (A, C, F)\n",
    "* 4 segments: **4** (A, C, D, F)\n",
    "* 5 segments: **2** (A, C, D, E, G), **3** (A, C, D, F, G), **5** (A, B, D, F, G)\n",
    "* 6 segments: **0** (A, B, C, E, F, G), **6** (A, B, D, E, F, G), **9** (A, B, C, D, F, G)\n",
    "* 7 segments: **8** (A, B, C, D, E, F, G)"
   ]
  },
  {
   "cell_type": "code",
   "execution_count": 1,
   "metadata": {},
   "outputs": [],
   "source": [
    "def parse_input_part_1(input_file: str) -> list[str]:\n",
    "    with open(input_file) as signal_patterns_and_output:\n",
    "        return [output for line in signal_patterns_and_output.readlines()\n",
    "                for output in line.strip().split(' | ')[1].split(' ')]"
   ]
  },
  {
   "cell_type": "code",
   "execution_count": 2,
   "metadata": {},
   "outputs": [],
   "source": [
    "def count_unique_combinations(screen_output_file: str) -> int:\n",
    "    rendered_output = parse_input_part_1(screen_output_file)\n",
    "    unique_numbers_found = 0\n",
    "    for rendered_number in rendered_output:\n",
    "        if any(len(rendered_number) == n for n in [2, 3, 4, 7]):\n",
    "            unique_numbers_found += 1\n",
    "    return unique_numbers_found"
   ]
  },
  {
   "cell_type": "code",
   "execution_count": 3,
   "metadata": {},
   "outputs": [
    {
     "data": {
      "text/plain": [
       "26"
      ]
     },
     "execution_count": 3,
     "metadata": {},
     "output_type": "execute_result"
    }
   ],
   "source": [
    "count_unique_combinations('practise_input.txt')"
   ]
  },
  {
   "cell_type": "code",
   "execution_count": 4,
   "metadata": {},
   "outputs": [
    {
     "data": {
      "text/plain": [
       "342"
      ]
     },
     "execution_count": 4,
     "metadata": {},
     "output_type": "execute_result"
    }
   ],
   "source": [
    "count_unique_combinations('real_input.txt')"
   ]
  },
  {
   "cell_type": "markdown",
   "metadata": {},
   "source": [
    "Part 2:"
   ]
  },
  {
   "cell_type": "markdown",
   "metadata": {},
   "source": [
    "After some investigation, we have found that after updating mappings for the unique combinations, the remaining mappings will always have two letters that map to c or f, two that map to e or g, two that map to b or d and one that maps to a.\n",
    "\n",
    "We can use 0 to resolve which maps to b or d. We can use 6 to resolve which maps to f or c. We can then use any number to resolve e vs g. "
   ]
  },
  {
   "cell_type": "code",
   "execution_count": 5,
   "metadata": {},
   "outputs": [],
   "source": [
    "wire_to_number: dict[tuple[str]:str] = {('a', 'b', 'c', 'e', 'f', 'g'): '0', ('c', 'f'): '1', ('a', 'c', 'd', 'e', 'g'): '2', \n",
    "                    ('a', 'c', 'd', 'f', 'g'): '3', ('b', 'c', 'd', 'f'): '4',\n",
    "                    ('a', 'b', 'd', 'f', 'g'): '5', ('a', 'b', 'd', 'e', 'f', 'g'): '6',\n",
    "                    ('a', 'c', 'f'): '7', ('a', 'b', 'c', 'd', 'e', 'f', 'g'): '8',\n",
    "                    ('a', 'b', 'c', 'd', 'f', 'g'): '9'}"
   ]
  },
  {
   "cell_type": "code",
   "execution_count": 6,
   "metadata": {},
   "outputs": [],
   "source": [
    "unique_length_to_wire: dict[int:set[str]] = {2:{'c', 'f'}, 3:{'a', 'c', 'f'}, 4:{'b', 'c', 'd', 'f'}}"
   ]
  },
  {
   "cell_type": "code",
   "execution_count": 7,
   "metadata": {},
   "outputs": [],
   "source": [
    "ALL_SEGMENTS: set[str]= {'a', 'b', 'c', 'd', 'e', 'f', 'g'}"
   ]
  },
  {
   "cell_type": "code",
   "execution_count": 8,
   "metadata": {},
   "outputs": [],
   "source": [
    "def parse_input_part_2(input_file: str) -> list[str]:\n",
    "    with open(input_file) as signal_patterns_and_output:\n",
    "        return [([{*pattern} for pattern in [*patterns.split()]], [{*output} for output in [*outputs.split()]]) \n",
    "                    for line in signal_patterns_and_output.readlines()\n",
    "                    for patterns, outputs in [line.strip().split(' | ')]]"
   ]
  },
  {
   "cell_type": "code",
   "execution_count": 9,
   "metadata": {},
   "outputs": [],
   "source": [
    "def initialise_potential_mappings() -> dict:\n",
    "    letters = list(map(chr, range(ord('a'), ord('g')+1)))\n",
    "    mappings = {letter:set(letters) for letter in letters}\n",
    "    return mappings"
   ]
  },
  {
   "cell_type": "code",
   "execution_count": 10,
   "metadata": {},
   "outputs": [],
   "source": [
    "def update_mappings(current_mappings: dict[str:set], mappings_to_update: set[str], new_information: set[str]):\n",
    "    for key, mapping in current_mappings.items():\n",
    "        if key in mappings_to_update:\n",
    "            current_mappings[key] = mapping - (ALL_SEGMENTS - new_information)\n",
    "        else:\n",
    "            current_mappings[key] = mapping - new_information"
   ]
  },
  {
   "cell_type": "code",
   "execution_count": 11,
   "metadata": {},
   "outputs": [],
   "source": [
    "def update_mappings_for_unique_segment_lengths(signal_patterns: list[str], mappings: dict[str:set]) -> dict[str:set]:\n",
    "    for pattern in signal_patterns:\n",
    "        if any(len(pattern) == n for n in [2, 3, 4]):\n",
    "            update_mappings(mappings, pattern, unique_length_to_wire[len(pattern)])"
   ]
  },
  {
   "cell_type": "code",
   "execution_count": 12,
   "metadata": {},
   "outputs": [],
   "source": [
    "def update_mapping_for_final_matches(mappings: dict[str:set], resolved_key: set[str], \n",
    "                                        resolved_mapping: str, unresolved_key: set[str],\n",
    "                                        unresolved_mapping: str):\n",
    "    mappings[('').join(resolved_key)] = resolved_mapping\n",
    "    mappings[('').join(unresolved_key - resolved_key)] = unresolved_mapping"
   ]
  },
  {
   "cell_type": "code",
   "execution_count": 13,
   "metadata": {},
   "outputs": [],
   "source": [
    "def resolve_remaining_matches(signal_patterns: list[str], mappings: dict[str:set]):\n",
    "    backwards_map = {'a': {key1} for key1, value1 in mappings.items() if value1 == {'a'}}\n",
    "    backwards_map.update({('').join(sorted(value1)): {key1, key2} \n",
    "                            for key1, value1 in mappings.items() \n",
    "                            for key2, value2 in mappings.items() \n",
    "                            if value1 == value2 and key1 != key2})\n",
    "    without_bd = {letter for key, mapping in backwards_map.items() for letter in mapping if 'b' not in key}\n",
    "    without_cf = {letter for key, mapping in backwards_map.items() for letter in mapping if 'c' not in key}\n",
    "    without_eg = {letter for key, mapping in backwards_map.items() for letter in mapping if 'e' not in key}\n",
    "    mappings[('').join(backwards_map['a'])] = 'a'\n",
    "    for pattern in signal_patterns:\n",
    "        if len(pattern) == 6:\n",
    "            if not backwards_map['bd'] < pattern:\n",
    "                maps_to_b = pattern - without_bd\n",
    "                update_mapping_for_final_matches(mappings, maps_to_b, 'b', backwards_map['bd'], 'd')\n",
    "            if not backwards_map['cf'] < pattern:\n",
    "                maps_to_f = pattern - without_cf\n",
    "                update_mapping_for_final_matches(mappings, maps_to_f, 'f', backwards_map['cf'], 'c')\n",
    "            if not backwards_map['eg'] < pattern:\n",
    "                maps_to_g = pattern - without_eg\n",
    "                update_mapping_for_final_matches(mappings, maps_to_g, 'g', backwards_map['eg'], 'e')"
   ]
  },
  {
   "cell_type": "code",
   "execution_count": 14,
   "metadata": {},
   "outputs": [],
   "source": [
    "def find_final_mappings(signal_patterns: list[str]) -> dict[str:set]:\n",
    "    mappings = initialise_potential_mappings()\n",
    "    update_mappings_for_unique_segment_lengths(signal_patterns, mappings)\n",
    "    resolve_remaining_matches(signal_patterns, mappings)\n",
    "    return mappings"
   ]
  },
  {
   "cell_type": "code",
   "execution_count": 15,
   "metadata": {},
   "outputs": [],
   "source": [
    "def convert_output(outputs: list[str], final_mappings: dict[str:str]) -> list[str]:\n",
    "    converted_output = []\n",
    "    for output in outputs:\n",
    "        converted_number = set()\n",
    "        for letter in output:\n",
    "            converted_number.add(final_mappings[letter])\n",
    "        converted_output.append(converted_number)\n",
    "    return converted_output"
   ]
  },
  {
   "cell_type": "code",
   "execution_count": 16,
   "metadata": {},
   "outputs": [],
   "source": [
    "def build_number(output: list[str]) -> int:\n",
    "    number = ''\n",
    "    for item in output:\n",
    "        number += wire_to_number[tuple(sorted(item))]\n",
    "    return int(number)\n"
   ]
  },
  {
   "cell_type": "code",
   "execution_count": 17,
   "metadata": {},
   "outputs": [],
   "source": [
    "def calculate_answer(input_file: str) -> int:\n",
    "    total = 0\n",
    "    signal_patterns_and_output = parse_input_part_2(input_file)\n",
    "    for signal_pattern, output in signal_patterns_and_output:\n",
    "        final_mappings = find_final_mappings(signal_pattern)\n",
    "        converted_output = convert_output(output, final_mappings)\n",
    "        total += build_number(converted_output)\n",
    "    return total"
   ]
  },
  {
   "cell_type": "code",
   "execution_count": 18,
   "metadata": {},
   "outputs": [
    {
     "data": {
      "text/plain": [
       "5353"
      ]
     },
     "execution_count": 18,
     "metadata": {},
     "output_type": "execute_result"
    }
   ],
   "source": [
    "calculate_answer('practise_practise_input.txt')"
   ]
  },
  {
   "cell_type": "code",
   "execution_count": 19,
   "metadata": {},
   "outputs": [
    {
     "data": {
      "text/plain": [
       "61229"
      ]
     },
     "execution_count": 19,
     "metadata": {},
     "output_type": "execute_result"
    }
   ],
   "source": [
    "calculate_answer('practise_input.txt')"
   ]
  },
  {
   "cell_type": "code",
   "execution_count": 20,
   "metadata": {},
   "outputs": [
    {
     "data": {
      "text/plain": [
       "1068933"
      ]
     },
     "execution_count": 20,
     "metadata": {},
     "output_type": "execute_result"
    }
   ],
   "source": [
    "calculate_answer('real_input.txt')"
   ]
  }
 ],
 "metadata": {
  "kernelspec": {
   "display_name": "AoC21",
   "language": "python",
   "name": "python3"
  },
  "language_info": {
   "codemirror_mode": {
    "name": "ipython",
    "version": 3
   },
   "file_extension": ".py",
   "mimetype": "text/x-python",
   "name": "python",
   "nbconvert_exporter": "python",
   "pygments_lexer": "ipython3",
   "version": "3.12.1"
  }
 },
 "nbformat": 4,
 "nbformat_minor": 2
}
